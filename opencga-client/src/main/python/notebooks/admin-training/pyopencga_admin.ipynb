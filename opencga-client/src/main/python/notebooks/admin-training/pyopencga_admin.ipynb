{
 "cells": [
  {
   "cell_type": "markdown",
   "metadata": {
    "collapsed": true
   },
   "source": [
    "# Overview\n",
    "------\n",
    "This notebook is intended to ....\n",
    "\n",
    "For guidance on how to loggin and get started with *opencga* you can refer to : [pyopencga_first_steps.ipynb](https://github.com/opencb/opencga/tree/develop/opencga-client/src/main/python/notebooks/user-training)<br>\n",
    "\n",
    "A good first step when start working with OpenCGA is to explore **Catalog**, which holds: information about our user, the projects and studies our user has permission to access and the clinical data from the studies. For guidance you can refer to : [pyopencga_catalog.ipynb](https://github.com/opencb/opencga/tree/develop/opencga-client/src/main/python/notebooks/user-training)<br>\n",
    "\n",
    "**[NOTE]** The server methods used by *pyopencga* client are defined in the following swagger URL:\n",
    "- https://ws.opencb.org/opencga-prod/webservices/\n"
   ]
  },
  {
   "cell_type": "markdown",
   "metadata": {},
   "source": [
    "## Table of Contents:\n",
    "\n",
    "This Notebook is organised in the following sections:\n",
    "\n",
    "* __Grant/edit permissions to groups or individual users__\n",
    "* __Asign samples to individuals__\n",
    "* __Define phenotypes or diseases for individuals__\n",
    "* __Define, add, edit and remove variable sets__\n",
    "* __Use Cases__"
   ]
  },
  {
   "cell_type": "markdown",
   "metadata": {},
   "source": [
    "## Setup the Client and Login into *pyopencga* \n",
    "\n",
    "**Configuration and Credentials** \n",
    "\n",
    "Let's assume we already have *pyopencga* installed in our python setup (all the steps described on [pyopencga_first_steps.ipynb](https://github.com/opencb/opencga/tree/develop/opencga-client/src/main/python/notebooks/user-training)).\n",
    "\n",
    "You need to provide **at least** a host server URL in the standard configuration format for OpenCGA as a python dictionary or in a json file.\n"
   ]
  },
  {
   "cell_type": "code",
   "execution_count": null,
   "metadata": {},
   "outputs": [],
   "source": [
    "## Step 1. Import pyopencga dependecies\n",
    "from pyopencga.opencga_config import ClientConfiguration # import configuration module\n",
    "from pyopencga.opencga_client import OpencgaClient # import client module\n",
    "from pprint import pprint\n",
    "from IPython.display import JSON\n",
    "# import json\n",
    "import matplotlib.pyplot as plt\n",
    "import seaborn as sns\n",
    "import datetime\n",
    "\n",
    "## Step 2. OpenCGA host\n",
    "host = 'https://ws.opencb.org/opencga-prod'\n",
    "# host = 'http://localhost:1234/opencga'\n",
    "\n",
    "## Step 3. User credentials\n",
    "user = 'demouser'\n",
    "passwd = 'demouser' ## you can skip this, see below.\n",
    "####################################\n",
    "\n",
    "## Step 4. Create the ClientConfiguration dict\n",
    "config_dict = {'rest': {\n",
    "                       'host': host \n",
    "                    }\n",
    "               }\n",
    "\n",
    "## Step 5. Create the ClientConfiguration and OpenCGA client\n",
    "config = ClientConfiguration(config_dict)\n",
    "oc = OpencgaClient(config)\n",
    "\n",
    "## Step 6. Login to OpenCGA using the OpenCGA client \n",
    "# Pass the credentials to the client\n",
    "# (here we put only the user in order to be asked for the password interactively)\n",
    "# oc.login(user)\n",
    "\n",
    "# or you can pass the user and passwd\n",
    "oc.login(user, passwd)\n",
    "\n",
    "print('Logged succesfuly to {}, your token is: {} well done!'.format(host, oc.token))"
   ]
  },
  {
   "cell_type": "markdown",
   "metadata": {},
   "source": [
    "## Setup OpenCGA Variables\n",
    "\n",
    "Once we have defined a variable with the client configuration and credentials, we can access to all the methods defined for the client. These methods implement calls to query different data models in *OpenCGA*. "
   ]
  },
  {
   "cell_type": "code",
   "execution_count": null,
   "metadata": {},
   "outputs": [],
   "source": [
    "## Define the OpenCGA variables to query data\n",
    "study = 'training:admin'\n",
    "\n",
    "## You can define list using string with commas\n",
    "genes='BRCA2'\n",
    "\n",
    "## or you can use python lists\n",
    "transcripts=['ENST00000530893']\n",
    "\n",
    "RESULT_SEPARATOR='\\n'"
   ]
  },
  {
   "cell_type": "code",
   "execution_count": null,
   "metadata": {},
   "outputs": [],
   "source": []
  },
  {
   "cell_type": "code",
   "execution_count": null,
   "metadata": {},
   "outputs": [],
   "source": []
  }
 ],
 "metadata": {
  "kernelspec": {
   "display_name": "Python 3",
   "language": "python",
   "name": "python3"
  },
  "language_info": {
   "codemirror_mode": {
    "name": "ipython",
    "version": 3
   },
   "file_extension": ".py",
   "mimetype": "text/x-python",
   "name": "python",
   "nbconvert_exporter": "python",
   "pygments_lexer": "ipython3",
   "version": "3.8.5"
  }
 },
 "nbformat": 4,
 "nbformat_minor": 1
}
