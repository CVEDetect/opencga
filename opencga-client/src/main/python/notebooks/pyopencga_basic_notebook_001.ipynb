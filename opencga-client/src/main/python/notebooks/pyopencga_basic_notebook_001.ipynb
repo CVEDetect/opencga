{
 "cells": [
  {
   "cell_type": "markdown",
   "metadata": {},
   "source": [
    "# pyopencga Basic User Usage\n",
    "\n",
    "------\n",
    "\n",
    "\n",
    "**[NOTE]** The server methods used by pyopencga client are defined in the following swagger URL:\n",
    "- http://bioinfo.hpc.cam.ac.uk/opencga-demo/webservices\n",
    "\n",
    "\n",
    "For tutorials and more info about accessing the OpenCGA REST please read the documentation at http://docs.opencb.org/display/opencga/Python"
   ]
  },
  {
   "cell_type": "markdown",
   "metadata": {},
   "source": [
    "## Loading pyOpenCGA"
   ]
  },
  {
   "cell_type": "markdown",
   "metadata": {
    "pycharm": {
     "name": "#%% md\n"
    }
   },
   "source": [
    "You have two main options\n",
    "\n",
    "a) From source code: If you need to import from the source code remember that Python3 does not accept relative importing, so you need to append the module path to `sys.path` \n",
    "\n",
    "b) Installed pyopencga (recommended): You can import pyopencga directly (skip next section) if you have installed pyopencga with `pip install pyopencga`\n",
    " "
   ]
  },
  {
   "cell_type": "markdown",
   "metadata": {},
   "source": [
    "#### Preparing environment for importing from source"
   ]
  },
  {
   "cell_type": "code",
   "execution_count": 21,
   "metadata": {
    "collapsed": false,
    "jupyter": {
     "outputs_hidden": false
    },
    "pycharm": {
     "is_executing": false,
     "name": "#%%\n"
    }
   },
   "outputs": [
    {
     "name": "stdout",
     "output_type": "stream",
     "text": [
      "current_dir: ..../notebooks\n",
      "base_modules_dir: ....ain/python\n"
     ]
    }
   ],
   "source": [
    "# Initialize PYTHONPATH for pyopencga\n",
    "import sys\n",
    "import os\n",
    "from pprint import pprint\n",
    "\n",
    "cwd = os.getcwd()\n",
    "print(\"current_dir: ....\"+cwd[-10:])\n",
    "\n",
    "base_modules_dir = os.path.dirname(cwd)\n",
    "print(\"base_modules_dir: ....\"+base_modules_dir[-10:])\n",
    "\n",
    "sys.path.append(base_modules_dir)\n"
   ]
  },
  {
   "cell_type": "markdown",
   "metadata": {
    "pycharm": {
     "name": "#%% md\n"
    }
   },
   "source": [
    "\n",
    "#### Importing pyopencga Library\n",
    "\n",
    "This is the recommended way of using *pyopencga* "
   ]
  },
  {
   "cell_type": "code",
   "execution_count": 46,
   "metadata": {
    "pycharm": {
     "is_executing": false
    }
   },
   "outputs": [],
   "source": [
    "from pyopencga.opencga_config import ClientConfiguration\n",
    "from pyopencga.opencga_client import OpencgaClient\n",
    "from pprint import pprint\n",
    "import json\n",
    "\n"
   ]
  },
  {
   "cell_type": "markdown",
   "metadata": {},
   "source": [
    "## Creating some useful functions to manage the results"
   ]
  },
  {
   "cell_type": "code",
   "execution_count": 28,
   "metadata": {},
   "outputs": [],
   "source": [
    "def get_not_private_methods(client):\n",
    "    all_methods = dir(client)\n",
    "    \n",
    "    #showing all methos (exept the ones starting with \"_\", as they are private for the API)\n",
    "    methods = [method for method in all_methods if not method.startswith(\"_\")]\n",
    "    return methods"
   ]
  },
  {
   "cell_type": "markdown",
   "metadata": {},
   "source": [
    "## Setup client and login\n",
    "\n",
    "\n"
   ]
  },
  {
   "cell_type": "markdown",
   "metadata": {},
   "source": [
    "**Configuration and Credentials** \n",
    "\n",
    "You need to provide a server URL in the standard configuration format for OpenCGA as a dict or in a json file\n",
    "\n",
    "Regarding credentials, if you don't pass the password, it would be asked interactively without echo.\n"
   ]
  },
  {
   "cell_type": "code",
   "execution_count": 23,
   "metadata": {
    "pycharm": {
     "is_executing": false
    }
   },
   "outputs": [],
   "source": [
    "# server host\n",
    "host = 'http://bioinfo.hpc.cam.ac.uk/opencga-prod'\n",
    "\n",
    "# user credentials\n",
    "user = \"demouser\"\n",
    "passwd = \"demouser\" ## you can skip this, see below.\n",
    "\n",
    "# the user demo access projects from user opencga\n",
    "prj_owner = \"demo\"\n"
   ]
  },
  {
   "cell_type": "markdown",
   "metadata": {},
   "source": [
    "#### Creating ConfigClient for server connection configuration"
   ]
  },
  {
   "cell_type": "code",
   "execution_count": 24,
   "metadata": {
    "pycharm": {
     "is_executing": false
    }
   },
   "outputs": [
    {
     "name": "stdout",
     "output_type": "stream",
     "text": [
      "Config information:\n",
      " {'rest': {'host': 'http://bioinfo.hpc.cam.ac.uk/opencga-prod'}}\n"
     ]
    }
   ],
   "source": [
    "# Creating ClientConfiguration dict\n",
    "host = 'http://bioinfo.hpc.cam.ac.uk/opencga-prod'\n",
    "\n",
    "config_dict = {\"rest\": {\n",
    "                       \"host\": host \n",
    "                    }\n",
    "               }\n",
    "\n",
    "print(\"Config information:\\n\",config_dict)\n"
   ]
  },
  {
   "cell_type": "markdown",
   "metadata": {
    "pycharm": {
     "name": "#%% md\n"
    }
   },
   "source": [
    "#### Initialize the client configuration\n",
    "\n",
    "You can pass a dictionary to the ClientConfiguration \n"
   ]
  },
  {
   "cell_type": "code",
   "execution_count": 25,
   "metadata": {
    "collapsed": false,
    "jupyter": {
     "outputs_hidden": false
    },
    "pycharm": {
     "is_executing": false,
     "name": "#%%\n"
    }
   },
   "outputs": [],
   "source": [
    "config = ClientConfiguration(config_dict)\n",
    "oc = OpencgaClient(config)\n"
   ]
  },
  {
   "cell_type": "markdown",
   "metadata": {},
   "source": [
    "#### Make the login"
   ]
  },
  {
   "cell_type": "code",
   "execution_count": 11,
   "metadata": {
    "pycharm": {
     "is_executing": false
    }
   },
   "outputs": [],
   "source": [
    "# here we put only the user in order to be asked for the password interactively\n",
    "# oc.login(user)"
   ]
  },
  {
   "cell_type": "code",
   "execution_count": 59,
   "metadata": {
    "pycharm": {
     "is_executing": false
    }
   },
   "outputs": [],
   "source": [
    "# or you can pass the user and passwd\n",
    "oc.login(user, passwd)"
   ]
  },
  {
   "cell_type": "markdown",
   "metadata": {},
   "source": [
    "**You are now connected to OpenCGA**"
   ]
  },
  {
   "cell_type": "markdown",
   "metadata": {},
   "source": [
    "## Working with RestResponse results\n",
    "\n",
    "All OpenCGA client libraris including pyopencga implement a **RestReponse** wrapper object to make even easier to work with REST web services responses. REST responsess include metadata and OpenCGA 2.0.0 has been designed to work in a federation mode, all these can make a bit difficult to start working with the responses. Please read this brief documentation http://docs.opencb.org/display/opencga/RESTful+Web+Services#RESTfulWebServices-OpenCGA2.x\n",
    "\n",
    "Let's see a quick example of how to use RESTResponse wrapper in pyopencga. You can get some extra inforamtion here http://docs.opencb.org/display/opencga/Python#Python-WorkingwiththeRestResponse. Let's execute a first simple query to fetch all projects for the user **demouser** (already logged in):"
   ]
  },
  {
   "cell_type": "code",
   "execution_count": 70,
   "metadata": {},
   "outputs": [],
   "source": [
    "## Let's fecth the available projects.\n",
    "## First let's get the project client and execute search() funciton\n",
    "project_client = oc.projects\n",
    "projects = project_client.search()\n",
    "\n",
    "## Uncomment this line to view the JSON response.\n",
    "## NOTE: it incudes study information so this can be big\n",
    "##pprint(projects.get_responses())"
   ]
  },
  {
   "cell_type": "markdown",
   "metadata": {},
   "source": [
    "Although you can iterate through all diferent projects by executing this, this is **not recommended** way."
   ]
  },
  {
   "cell_type": "code",
   "execution_count": 67,
   "metadata": {},
   "outputs": [
    {
     "name": "stdout",
     "output_type": "stream",
     "text": [
      "family Family Studies GRCh37\n",
      "population Population Studies GRCh38\n"
     ]
    }
   ],
   "source": [
    "## Loop through all diferent projects \n",
    "for project in projects.get_responses()[0]['results']:\n",
    "   print(project['id'], project['name'])"
   ]
  },
  {
   "cell_type": "markdown",
   "metadata": {},
   "source": [
    "### Using RestResponse object makes things much easier!"
   ]
  },
  {
   "cell_type": "markdown",
   "metadata": {},
   "source": [
    "You can use `get_results` function to iterate over all results, in this case the projects:"
   ]
  },
  {
   "cell_type": "code",
   "execution_count": 73,
   "metadata": {},
   "outputs": [
    {
     "name": "stdout",
     "output_type": "stream",
     "text": [
      "family Family Studies GRCh37\n",
      "population Population Studies GRCh38\n"
     ]
    }
   ],
   "source": [
    "## Loop through all diferent projects \n",
    "for project in projects.get_results():\n",
    "   print(project['id'], project['name'])"
   ]
  },
  {
   "cell_type": "markdown",
   "metadata": {},
   "source": [
    "You can also iterate results, this is specially interesting when fetching many results from the server:"
   ]
  },
  {
   "cell_type": "code",
   "execution_count": 74,
   "metadata": {},
   "outputs": [
    {
     "name": "stdout",
     "output_type": "stream",
     "text": [
      "family Family Studies GRCh37\n",
      "population Population Studies GRCh38\n"
     ]
    }
   ],
   "source": [
    "## Iterate through all diferent projects \n",
    "for project in projects.result_iterator():\n",
    "   print(project['id'], project['name'])"
   ]
  },
  {
   "cell_type": "markdown",
   "metadata": {},
   "source": [
    "**IMPORTANT**: RestResponse obejct implements a very powerful custom function to print results :-)"
   ]
  },
  {
   "cell_type": "code",
   "execution_count": 79,
   "metadata": {},
   "outputs": [
    {
     "name": "stdout",
     "output_type": "stream",
     "text": [
      "#Time: 61\n",
      "#Num matches: -1\n",
      "#Num results: 2\n",
      "#Num inserted: 0\n",
      "#Num updated: 0\n",
      "#Num deleted: 0\n",
      "#id\tname\tuuid\tfqn\tcreationDate\tmodificationDate\tdescription\torganism\tcurrentRelease\tstudies\tinternal\tattributes\n",
      "family\tFamily Studies GRCh37\teba0e1c7-0172-0001-0001-c7af712652b2\tdemo@family\t20200625131808\t20200625131808\t\t{'scientificName': 'Homo sapiens', 'commonName': '', 'assembly': 'GRCh37'}\t1\t.\t{'datastores': {}, 'status': {'name': 'READY', 'date': '20200625131808', 'description': ''}}\t{}\n",
      "population\tPopulation Studies GRCh38\t25f2842a-0173-0001-0001-e7bcbedc77ff\tdemo@population\t20200706210517\t20200706210517\tSome population reference studies for GRCh38\t{'scientificName': 'Homo sapiens', 'commonName': '', 'assembly': 'GRCh38'}\t1\t.\t{'datastores': {}, 'status': {'name': 'READY', 'date': '20200706210517', 'description': ''}}\t{}\n"
     ]
    }
   ],
   "source": [
    "## This function iterates over all the results, it can be configured to exclude metadata, change separator or even select the fields!\n",
    "projects.print_results()"
   ]
  },
  {
   "cell_type": "markdown",
   "metadata": {},
   "source": [
    "With `print_results` you can even print nested fields in an array:"
   ]
  },
  {
   "cell_type": "code",
   "execution_count": 88,
   "metadata": {},
   "outputs": [
    {
     "name": "stdout",
     "output_type": "stream",
     "text": [
      "#id\tname\torganism.scientificName\torganism.assembly\n",
      "family\tFamily Studies GRCh37\tHomo sapiens\tGRCh37\n",
      "population\tPopulation Studies GRCh38\tHomo sapiens\tGRCh38\n",
      "\n",
      "With a different separator:\n",
      "\n",
      "#id,name,organism.scientificName,organism.assembly\n",
      "family,Family Studies GRCh37,Homo sapiens,GRCh37\n",
      "population,Population Studies GRCh38,Homo sapiens,GRCh38\n"
     ]
    }
   ],
   "source": [
    "## Lets exclude metadata and print only few fields, use dot notation for ensted fields\n",
    "projects_info.print_results(fields='id,name,organism.scientificName,organism.assembly',metadata=False)\n",
    "\n",
    "## You can change separator\n",
    "print()\n",
    "print('With a different separator:\\n')\n",
    "projects_info.print_results(fields='id,name,organism.scientificName,organism.assembly', separator=',', metadata=False)\n"
   ]
  },
  {
   "cell_type": "markdown",
   "metadata": {},
   "source": [
    "## Working with Users"
   ]
  },
  {
   "cell_type": "code",
   "execution_count": 13,
   "metadata": {
    "pycharm": {
     "is_executing": false
    }
   },
   "outputs": [],
   "source": [
    "# Listing available methods for the user client object\n",
    "user_client = oc.users\n",
    "\n",
    "# showing all methods (except the ones starting with \"_\", as they are private for the API)\n",
    "# get_not_private_methods(user_client)"
   ]
  },
  {
   "cell_type": "code",
   "execution_count": 27,
   "metadata": {
    "pycharm": {
     "is_executing": false
    }
   },
   "outputs": [
    {
     "name": "stdout",
     "output_type": "stream",
     "text": [
      "user info:\n",
      "name: OpenCGA Demo User\towned_projects: 0\n"
     ]
    }
   ],
   "source": [
    "## getting user information\n",
    "## [NOTE] User needs the quey_id string directly --> (user)\n",
    "uc_info = user_client.info(user).responses[0]['results'][0]\n",
    "\n",
    "print(\"user info:\")\n",
    "print(\"name: {}\\towned_projects: {}\".format(uc_info[\"name\"], len(uc_info[\"projects\"])))\n"
   ]
  },
  {
   "cell_type": "markdown",
   "metadata": {
    "pycharm": {
     "name": "#%% md\n"
    }
   },
   "source": [
    "The demo user has **not** projects from its own, but has access to some projects from `opencga` user.\n",
    "\n",
    "Let's see how to find it out.\n",
    "\n",
    "We need to list user's projects using **project client** `search()` function.\n",
    "\n",
    "And remember that OpenCGA REST objects encapsulate the result inside the responses property, so we need to access the first element of the responses array. \n"
   ]
  },
  {
   "cell_type": "code",
   "execution_count": 38,
   "metadata": {
    "pycharm": {
     "is_executing": false
    }
   },
   "outputs": [
    {
     "name": "stdout",
     "output_type": "stream",
     "text": [
      "Name: Family Studies GRCh37\tfull_id: demo@family\n",
      "Name: Population Studies GRCh38\tfull_id: demo@population\n",
      "family\n",
      "population\n",
      "#id,name,organism.scientificName,organism.assembly\n",
      "family,Family Studies GRCh37,Homo sapiens,GRCh37\n",
      "population,Population Studies GRCh38,Homo sapiens,GRCh38\n"
     ]
    }
   ],
   "source": [
    "## Getting user projects\n",
    "## [NOTE] Client specific methods have the query_id as a key:value (i.e (user=user_id)) \n",
    "project_client = oc.projects\n",
    "projects_info = project_client.search().responses[0][\"results\"]\n",
    "\n",
    "for project in projects_info:\n",
    "    print(\"Name: {}\\tfull_id: {}\".format(project[\"name\"], project[\"fqn\"]))\n",
    "\n",
    "\n",
    "projects_info = project_client.search()\n",
    "for res in projects_info.get_results():\n",
    "    print(res['id'])\n",
    "\n",
    "projects_info.print_results(fields='id,name,organism.scientificName,organism.assembly', separator=',', metadata=False)\n"
   ]
  },
  {
   "cell_type": "markdown",
   "metadata": {},
   "source": [
    "**User demo has access to one project called opencga@exomes_grch37**\n",
    "\n",
    "note: in opencga the projects and studies have a `full qualify name, fqn` with the format [owner]@[porject]:[study] "
   ]
  },
  {
   "cell_type": "markdown",
   "metadata": {},
   "source": [
    "## Working with Projects"
   ]
  },
  {
   "cell_type": "code",
   "execution_count": 32,
   "metadata": {},
   "outputs": [
    {
     "data": {
      "text/plain": [
       "['aggregation_stats',\n",
       " 'auto_refresh',\n",
       " 'create',\n",
       " 'delete',\n",
       " 'increment_release',\n",
       " 'info',\n",
       " 'login_handler',\n",
       " 'on_retry',\n",
       " 'search',\n",
       " 'session_id',\n",
       " 'studies',\n",
       " 'token',\n",
       " 'update']"
      ]
     },
     "execution_count": 32,
     "metadata": {},
     "output_type": "execute_result"
    }
   ],
   "source": [
    "project_client = oc.projects\n",
    "\n",
    "get_not_private_methods(project_client)"
   ]
  },
  {
   "cell_type": "code",
   "execution_count": 38,
   "metadata": {},
   "outputs": [
    {
     "name": "stdout",
     "output_type": "stream",
     "text": [
      "Name: Exomes GRCh37\tfull_id: opencga@exomes_grch37\n"
     ]
    }
   ],
   "source": [
    "## Getting all projects from logged in user\n",
    "project_client = oc.projects\n",
    "projects_list = project_client.search().responses[0][\"results\"]\n",
    "\n",
    "for project in projects_list:\n",
    "    print(\"Name: {}\\tfull_id: {}\".format(project[\"name\"], project[\"fqn\"]))"
   ]
  },
  {
   "cell_type": "code",
   "execution_count": 56,
   "metadata": {},
   "outputs": [
    {
     "name": "stdout",
     "output_type": "stream",
     "text": [
      "project:exomes_grch37\n",
      "study:Corpasome\ttype:CASE_CONTROL\n",
      "--\n",
      "project:exomes_grch37\n",
      "study:CEPH Trio\ttype:CASE_CONTROL\n",
      "--\n"
     ]
    }
   ],
   "source": [
    "## Getting information from a specific project\n",
    "project_name = 'exomes_grch37'\n",
    "project_info = project_client.info(project_name).responses[0]['results'][0]\n",
    "\n",
    "#show the studies\n",
    "for study in project_info['studies']:\n",
    "    print(\"project:{}\\nstudy:{}\\ttype:{}\".format(project_name, study['name'], study['type'] ))\n",
    "    print('--')"
   ]
  },
  {
   "cell_type": "code",
   "execution_count": 58,
   "metadata": {},
   "outputs": [
    {
     "name": "stdout",
     "output_type": "stream",
     "text": [
      "{'attributes': {},\n",
      " 'cipher': 'none',\n",
      " 'cohorts': [],\n",
      " 'creationDate': '20190604154741',\n",
      " 'dataStores': {},\n",
      " 'datasets': [],\n",
      " 'description': '',\n",
      " 'experiments': [],\n",
      " 'files': [],\n",
      " 'fqn': 'opencga@exomes_grch37:corpasome',\n",
      " 'groups': [{'id': '@members',\n",
      "             'name': '@members',\n",
      "             'userIds': ['opencga', 'demo']},\n",
      "            {'id': '@admins', 'name': '@admins', 'userIds': []}],\n",
      " 'id': 'corpasome',\n",
      " 'individuals': [],\n",
      " 'jobs': [],\n",
      " 'lastModified': '20190604154741',\n",
      " 'modificationDate': '20190604154741',\n",
      " 'name': 'Corpasome',\n",
      " 'panels': [],\n",
      " 'permissionRules': {},\n",
      " 'release': 1,\n",
      " 'samples': [],\n",
      " 'size': 0,\n",
      " 'stats': {},\n",
      " 'status': {'date': '20190604154741', 'message': '', 'name': 'READY'},\n",
      " 'type': 'CASE_CONTROL',\n",
      " 'uri': 'file:///mnt/data/opencga-demo/sessions/users/opencga/projects/1/2/',\n",
      " 'uuid': 'Iyy1cwFrAAIAAViPXu86gw',\n",
      " 'variableSets': []}\n",
      "{'attributes': {},\n",
      " 'cipher': 'none',\n",
      " 'cohorts': [],\n",
      " 'creationDate': '20190617155526',\n",
      " 'dataStores': {},\n",
      " 'datasets': [],\n",
      " 'description': 'Data generated from replicates of the CEPH trio NA12878, '\n",
      "                'NA12891 and NA12892 sequenced on NextSeq 500 using V2 '\n",
      "                'reagents. Samples prepared using Nextera Rapid Capture Exome '\n",
      "                'reagent kit.',\n",
      " 'experiments': [],\n",
      " 'files': [],\n",
      " 'fqn': 'opencga@exomes_grch37:ceph_trio',\n",
      " 'groups': [{'id': '@members',\n",
      "             'name': '@members',\n",
      "             'userIds': ['opencga', 'demo']},\n",
      "            {'id': '@admins', 'name': '@admins', 'userIds': []}],\n",
      " 'id': 'ceph_trio',\n",
      " 'individuals': [],\n",
      " 'jobs': [],\n",
      " 'lastModified': '20190617155526',\n",
      " 'modificationDate': '20190617155526',\n",
      " 'name': 'CEPH Trio',\n",
      " 'panels': [],\n",
      " 'permissionRules': {},\n",
      " 'release': 1,\n",
      " 'samples': [],\n",
      " 'size': 0,\n",
      " 'stats': {},\n",
      " 'status': {'date': '20190617155526', 'message': '', 'name': 'READY'},\n",
      " 'type': 'CASE_CONTROL',\n",
      " 'uri': 'file:///mnt/data/opencga-demo/sessions/users/opencga/projects/1/16/',\n",
      " 'uuid': 'ZiZ7WgFrAAIAATfAQacuCw',\n",
      " 'variableSets': []}\n"
     ]
    }
   ],
   "source": [
    "## Fetching the studies from a project using the studies method\n",
    "results = project_client.studies(project_name).responses[0]['results']\n",
    "for result in results:\n",
    "    pprint(result)"
   ]
  }
 ],
 "metadata": {
  "kernelspec": {
   "display_name": "Python 3",
   "language": "python",
   "name": "python3"
  },
  "language_info": {
   "codemirror_mode": {
    "name": "ipython",
    "version": 3
   },
   "file_extension": ".py",
   "mimetype": "text/x-python",
   "name": "python",
   "nbconvert_exporter": "python",
   "pygments_lexer": "ipython3",
   "version": "3.6.9"
  },
  "pycharm": {
   "stem_cell": {
    "cell_type": "raw",
    "metadata": {
     "collapsed": false
    },
    "source": []
   }
  }
 },
 "nbformat": 4,
 "nbformat_minor": 4
}
