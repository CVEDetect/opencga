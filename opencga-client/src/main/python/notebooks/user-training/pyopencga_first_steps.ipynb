{
  "cells" : [
    {
      "cell_type" : "markdown",
      "source" : [
        "# First Steps with *pyopencga*; the Python client of OpenCGA\n",
        "------\n",
        "# 1. Overview\n",
        "\n",
        "This notebook provides guidance for getting started with the *pyopencga* library, the Python client of OpenCGA.\n\nWe assume that your workstation (Linux, Mac, Windows) is connected to the internet and has Python  3 and the *pip* package manager installed. We then show you how to:\n",
        "\n",
        "- Install *pyopencga*.\n",
        "- Connect to an OpenCGA instance.\n",
        "- Issue OpenCGA requests and work with responses.\n",
        "- Launch asynchronous jobs and retrieve results.\n",
        "\n",
        "\n",
        "Walk-through guides of some **common use cases** are provided in two further notebooks:<BR>\n",
        "- ADD LINK TO NOTEBOOK-02\n",
        "- ADD LINK TO NOTEBOOK-03\n",
        " \n",
        "For reference, the methods implemented by *pyopencga* are are listed here:\n",
        "- https:\/\/docs.google.com\/spreadsheets\/d\/1QpU9yl3UTneqwRqFX_WAqCiCfZBk5eU-4E3K-WVvuoc\n",
        "\n",
        "The OpenCGA web service endpoints used by *pyopencga* are listed here:\n",
        "- https:\/\/ws.opencb.org\/opencga-prod\/webservices\n",
        "\n"
      ],
      "metadata" : {

      }
    },
    {
      "cell_type" : "markdown",
      "source" : [
        "# 2. Installing and importing the *pyopencga* library\n",
        "\n",
        "You have two main options for get *pyopencga* installed in your python setup; from source code or using the Python *pip* package panager. We recommend the latter:\n",
        "### 2.1. Install *pyopencga* with *pip*\n",
        "\n",
        "[PROVIDE INSTRUCTIONS FOR THE FOLLOWING] you can import pyopencga directly if you have installed *pyopencga* with PyPI (The Python Package Index).<br>For further documentation reffer to https:\/\/pypi.org\/project\/pyopencga\/. <br> The user just needs to access the console terminal (optionally within a python environment) and run:\n",
        "\n",
        "`$ pip install pyopencga`"
      ],
      "metadata" : {

      }
    },
    {
      "cell_type" : "markdown",
      "source" : [
        "## 2.2. Importing the *pyopencga* library\n",
        "\n",
        "This is the recommended way of using *pyopencga* "
      ],
      "metadata" : {

      }
    },
    {
      "metadata" : {

      },
      "source" : [
        "from pyopencga.opencga_config import ClientConfiguration # import configuration module\n",
        "from pyopencga.opencga_client import OpencgaClient # import client module\n",
        "from pprint import pprint\n",
        "import json\n"
      ],
      "cell_type" : "code",
      "execution_count" : 1,
      "outputs" : [

      ]
    },
    {
      "cell_type" : "markdown",
      "source" : [
        "## 2.3. Setup the Client and Login in *pyopencga* \n",
        "\n",
        "**Configuration and Credentials** \n",
        "\n",
        "You need to provide **at least** a host server URL in the standard configuration format for OpenCGA as a python dictionary or in a json file.\n",
        "\n",
        "Regarding credentials, you can set both user and password as two variables in the script. If you prefer not to show the password, it would be asked interactively without echo.\n"
      ],
      "metadata" : {

      }
    },
    {
      "cell_type" : "markdown",
      "source" : [
        "### 1.3.1 Set variables for server host, user credentials and project owner"
      ],
      "metadata" : {

      }
    },
    {
      "metadata" : {

      },
      "source" : [
        "# server host\n",
        "host = 'http:\/\/bioinfo.hpc.cam.ac.uk\/opencga-prod'\n",
        "\n",
        "# user credentials\n",
        "user = \"demouser\"\n",
        "passwd = \"demouser\" ## you can skip this, see below.\n",
        "\n",
        "# the user demo access projects from user opencga\n",
        "prj_owner = \"demo\""
      ],
      "cell_type" : "code",
      "execution_count" : 2,
      "outputs" : [

      ]
    },
    {
      "cell_type" : "markdown",
      "source" : [
        "### 1.3.2 Creating ConfigClient dictionary for server connection configuration"
      ],
      "metadata" : {

      }
    },
    {
      "metadata" : {

      },
      "source" : [
        "# Creating ClientConfiguration dict\n",
        "host = 'http:\/\/bioinfo.hpc.cam.ac.uk\/opencga-prod'\n",
        "\n",
        "config_dict = {\"rest\": {\n",
        "                       \"host\": host \n",
        "                    }\n",
        "               }\n",
        "\n",
        "print(\"Config information:\\n\",config_dict)\n",
        "\n"
      ],
      "cell_type" : "code",
      "execution_count" : 3,
      "outputs" : [
        {
          "name" : "stdout",
          "text" : [
            "Config information:\n",
            " {'rest': {'host': 'http:\/\/bioinfo.hpc.cam.ac.uk\/opencga-prod'}}\n"
          ],
          "output_type" : "stream"
        }
      ]
    },
    {
      "cell_type" : "markdown",
      "source" : [
        "### 1.3.3 Initialize the client configuration\n",
        "\n",
        "Now we need to pass the *config_dict* dictionary to the **ClientConfiguration** method"
      ],
      "metadata" : {

      }
    },
    {
      "metadata" : {

      },
      "source" : [
        "config = ClientConfiguration(config_dict)\n",
        "oc = OpencgaClient(config)\n"
      ],
      "cell_type" : "code",
      "execution_count" : 4,
      "outputs" : [

      ]
    },
    {
      "cell_type" : "markdown",
      "source" : [
        "### 1.3.4 Import the user credentials to the previously defined *OpencgaClient* instance and Login\n",
        "\n",
        "We can decide to pass the password as a variable, or just pass the user and be asked for the password interactively"
      ],
      "metadata" : {

      }
    },
    {
      "metadata" : {

      },
      "source" : [
        "# here we put only the user in order to be asked for the password interactively\n",
        "# oc.login(user)"
      ],
      "cell_type" : "code",
      "execution_count" : 26,
      "outputs" : [

      ]
    },
    {
      "metadata" : {

      },
      "source" : [
        "# or you can pass the user and passwd\n",
        "oc.login(user, passwd)"
      ],
      "cell_type" : "code",
      "execution_count" : 5,
      "outputs" : [

      ]
    },
    {
      "cell_type" : "markdown",
      "source" : [
        "#### ✅  Congrats! You are now connected to OpenCGA"
      ],
      "metadata" : {

      }
    },
    {
      "cell_type" : "markdown",
      "source" : [
        "# 3. Understanding REST Response\n",
        "\n",
        "*pyopencga* queries web services that return a RESTResponse object, which might be difficult to interpretate. The RESTResponse type provide the data in a manner that is not as intuitive as a python list or dictionary. Because of this, we have develop a useful functionality that retrieves the data in a simpler format. \n",
        "\n",
        "[OpenCGA Client Libraries](http:\/\/docs.opencb.org\/display\/opencga\/Using+OpenCGA), including *pyopencga*, implement a **RESTReponse wrapper** to make even easier to work with REST web services responses. <br>REST responsess include metadata and OpenCGA 2.0.1 has been designed to work in a federation mode (more information about OpenCGA federations can be found **[here](http:\/\/docs.opencb.org\/display\/opencga\/Roadmapg)**).\n",
        "\n",
        "All these can make a first-time user to struggle when start working with the responses. Please read this brief documentation about **[OpenCGA RESTful Web Services](http:\/\/docs.opencb.org\/display\/opencga\/RESTful+Web+Services#RESTfulWebServices-OpenCGA2.x)**.\n",
        "\n",
        "Let's see a quick example of how to use RESTResponse wrapper in *pyopencga*. \n",
        "You can get some extra inforamtion [here](http:\/\/docs.opencb.org\/display\/opencga\/Python#Python-WorkingwiththeRestResponse). Let's execute a first simple query to fetch all projects for the user **demouser** already logged in **[step 1.3](#1.3-Setup-the-client-and-login-in-pyopencga)**."
      ],
      "metadata" : {

      }
    },
    {
      "metadata" : {

      },
      "source" : [
        "## Let's fecth the available projects.\n",
        "## First let's get the project client and execute search() funciton\n",
        "project_client = oc.projects\n",
        "projects = project_client.search()\n",
        "\n",
        "## Uncomment this line to view the JSON response.\n",
        "## NOTE: it incudes study information so this can be big\n",
        "##pprint(projects.get_responses())"
      ],
      "cell_type" : "code",
      "execution_count" : 28,
      "outputs" : [

      ]
    },
    {
      "cell_type" : "markdown",
      "source" : [
        "#### Although you can iterate through all the different projects provided by the response by executing the next chunk of code, this is a **not recommended** way.\n",
        "We can explore this through an example; the next query iterates over all the projects retrieved from `projects.search()`"
      ],
      "metadata" : {

      }
    },
    {
      "metadata" : {

      },
      "source" : [
        "## Loop through all diferent projects \n",
        "for project in projects.responses[0]['results']:\n",
        "   print(project['id'], project['name'])"
      ],
      "cell_type" : "code",
      "execution_count" : 29,
      "outputs" : [
        {
          "name" : "stdout",
          "text" : [
            "family Family Studies GRCh37\n",
            "population Population Studies GRCh38\n"
          ],
          "output_type" : "stream"
        }
      ]
    },
    {
      "cell_type" : "markdown",
      "source" : [
        "## RestResponse API"
      ],
      "metadata" : {

      }
    },
    {
      "cell_type" : "markdown",
      "source" : [
        "Note: Table with API funcitons and the description"
      ],
      "metadata" : {

      }
    },
    {
      "cell_type" : "markdown",
      "source" : [
        "## Using the `get_results()` function \n",
        "\n",
        "Using the functions that *pyopencga* implements for the RestResponse object makes things much easier! <br> Let's dig into an example using the same query as above:"
      ],
      "metadata" : {

      }
    },
    {
      "metadata" : {

      },
      "source" : [
        "# Loop through all diferent projects \n",
        "for project in projects.get_results():\n",
        "   print(project['id'], project['name'])"
      ],
      "cell_type" : "code",
      "execution_count" : 30,
      "outputs" : [
        {
          "name" : "stdout",
          "text" : [
            "family Family Studies GRCh37\n",
            "population Population Studies GRCh38\n"
          ],
          "output_type" : "stream"
        }
      ]
    },
    {
      "cell_type" : "markdown",
      "source" : [
        "## Using the `result_iterator()` function to iterate over the Rest results\n",
        "\n",
        "You can also iterate results, this is specially interesting when fetching many results from the server:"
      ],
      "metadata" : {

      }
    },
    {
      "metadata" : {

      },
      "source" : [
        "## Iterate through all diferent projects \n",
        "for project in projects.result_iterator():\n",
        "   print(project['id'], project['name'])"
      ],
      "cell_type" : "code",
      "execution_count" : 31,
      "outputs" : [
        {
          "name" : "stdout",
          "text" : [
            "family Family Studies GRCh37\n",
            "population Population Studies GRCh38\n"
          ],
          "output_type" : "stream"
        }
      ]
    },
    {
      "cell_type" : "markdown",
      "source" : [
        "## Using `print_results()` function to iterate over the Rest results\n",
        "\n",
        "**IMPORTANT**: This function implements a configuration to exclude metadata, change separator or even select the fields! Then it reaches all the user-desired results and prints them directly in the terminal.<br>In this way, the RESTResponse obejct implements a very powerful custom function to print results 😎"
      ],
      "metadata" : {

      }
    },
    {
      "metadata" : {

      },
      "source" : [
        "## This function iterates over all the results, it can be configured to exclude metadata, change separator or even select the fields!\n",
        "projects.print_results()"
      ],
      "cell_type" : "code",
      "execution_count" : 32,
      "outputs" : [
        {
          "name" : "stdout",
          "text" : [
            "#Time: 81\n",
            "#Num matches: -1\n",
            "#Num results: 2\n",
            "#Num inserted: 0\n",
            "#Num updated: 0\n",
            "#Num deleted: 0\n",
            "#id\tname\tuuid\tfqn\tcreationDate\tmodificationDate\tdescription\torganism\tcurrentRelease\tstudies\tinternal\tattributes\n",
            "family\tFamily Studies GRCh37\teba0e1c7-0172-0001-0001-c7af712652b2\tdemo@family\t20200625131808\t20200625131808\t\t{'scientificName': 'Homo sapiens', 'commonName': '', 'assembly': 'GRCh37'}\t1\t.\t{'datastores': {}, 'status': {'name': 'READY', 'date': '20200625131808', 'description': ''}}\t{}\n",
            "population\tPopulation Studies GRCh38\t25f2842a-0173-0001-0001-e7bcbedc77ff\tdemo@population\t20200706210517\t20200706210517\tSome population reference studies for GRCh38\t{'scientificName': 'Homo sapiens', 'commonName': '', 'assembly': 'GRCh38'}\t1\t.\t{'datastores': {}, 'status': {'name': 'READY', 'date': '20200706210517', 'description': ''}}\t{}\n"
          ],
          "output_type" : "stream"
        }
      ]
    },
    {
      "cell_type" : "markdown",
      "source" : [
        "##### Now, let's try to costumize the results so we can get printed only the portion of the data that we might be interested in"
      ],
      "metadata" : {

      }
    },
    {
      "metadata" : {

      },
      "source" : [
        "## Lets exclude metadata and print only few fields, use dot notation for ensted fields\n",
        "projects.print_results(fields='id,name,organism.scientificName,organism.assembly',metadata=False)\n",
        "print()\n"
      ],
      "cell_type" : "code",
      "execution_count" : 33,
      "outputs" : [
        {
          "name" : "stdout",
          "text" : [
            "#id\tname\torganism.scientificName\torganism.assembly\n",
            "family\tFamily Studies GRCh37\tHomo sapiens\tGRCh37\n",
            "population\tPopulation Studies GRCh38\tHomo sapiens\tGRCh38\n",
            "\n"
          ],
          "output_type" : "stream"
        }
      ]
    },
    {
      "cell_type" : "markdown",
      "source" : [
        "##### A very useful parameter is the *separator*.<br>It allows the user to decide the format in which the data is printed. For example, it's possible to print a CSV-like style:"
      ],
      "metadata" : {

      }
    },
    {
      "metadata" : {

      },
      "source" : [
        "## You can change separator\n",
        "\n",
        "print('Print the projects with a header and a different separator:\\n')\n",
        "projects.print_results(fields='id,name,organism.scientificName,organism.assembly', separator=',', metadata=False)\n"
      ],
      "cell_type" : "code",
      "execution_count" : 34,
      "outputs" : [
        {
          "name" : "stdout",
          "text" : [
            "Print the projects with a header and a different separator:\n",
            "\n",
            "#id,name,organism.scientificName,organism.assembly\n",
            "family,Family Studies GRCh37,Homo sapiens,GRCh37\n",
            "population,Population Studies GRCh38,Homo sapiens,GRCh38\n"
          ],
          "output_type" : "stream"
        }
      ]
    },
    {
      "cell_type" : "markdown",
      "source" : [
        "# 4. Working with JOBS"
      ],
      "metadata" : {

      }
    },
    {
      "cell_type" : "markdown",
      "source" : [
        "OpenCGA implemtns a number of analysis and operations that are executed as jobs\n",
        "\n",
        "Note: Describe briefly how Jobs work and point to docs"
      ],
      "metadata" : {

      }
    },
    {
      "cell_type" : "markdown",
      "source" : [
        "## Job Info\n",
        "Decribe job information, ...\n"
      ],
      "metadata" : {

      }
    },
    {
      "cell_type" : "markdown",
      "source" : [
        "## Executing Jobs\n",
        "Lifecycle, status, ..."
      ],
      "metadata" : {

      }
    },
    {
      "cell_type" : "markdown",
      "source" : [
        "### Example"
      ],
      "metadata" : {

      }
    },
    {
      "metadata" : {

      },
      "source" : [
        "## Eexecute GWAS analysis\n",
        "rest_response = oc.variant().gwas()\n",
        "\n",
        "## wait for the job to finish\n",
        "oc.wait_for_job(rest_response)\n",
        "\n",
        "rest_response.print_results()"
      ],
      "cell_type" : "code",
      "execution_count" : 3,
      "outputs" : [
        {
          "evalue" : "name 'oc' is not defined",
          "traceback" : [
            "\u001b[0;31m---------------------------------------------------------------------------\u001b[0m",
            "\u001b[0;31mNameError\u001b[0m                                 Traceback (most recent call last)",
            "\u001b[0;32m<ipython-input-3-2c49a4a10182>\u001b[0m in \u001b[0;36m<module>\u001b[0;34m\u001b[0m\n\u001b[0;32m----> 1\u001b[0;31m \u001b[0mrest_response\u001b[0m \u001b[0;34m=\u001b[0m \u001b[0moc\u001b[0m\u001b[0;34m.\u001b[0m\u001b[0mvariant\u001b[0m\u001b[0;34m(\u001b[0m\u001b[0;34m)\u001b[0m\u001b[0;34m.\u001b[0m\u001b[0mgwas\u001b[0m\u001b[0;34m(\u001b[0m\u001b[0;34m)\u001b[0m\u001b[0;34m\u001b[0m\u001b[0;34m\u001b[0m\u001b[0m\n\u001b[0m",
            "\u001b[0;31mNameError\u001b[0m: name 'oc' is not defined"
          ],
          "output_type" : "error",
          "ename" : "NameError"
        }
      ]
    },
    {
      "metadata" : {

      },
      "source" : [

      ],
      "cell_type" : "code",
      "execution_count" : null,
      "outputs" : [

      ]
    }
  ],
  "nbformat_minor" : 5,
  "metadata" : {
    "language_info" : {
      "file_extension" : ".py",
      "codemirror_mode" : {
        "name" : "ipython",
        "version" : 3
      },
      "mimetype" : "text\/x-python",
      "pygments_lexer" : "ipython3",
      "version" : "3.6.9",
      "nbconvert_exporter" : "python",
      "name" : "python"
    },
    "kernelspec" : {
      "name" : "python3",
      "language" : "python",
      "display_name" : "Python 3"
    }
  },
  "nbformat" : 4
}