{
 "cells": [
  {
   "cell_type": "markdown",
   "metadata": {},
   "source": [
    "# *pyopencga* Basic Variant and Interpretation Usage\n",
    "\n",
    "------\n",
    "\n",
    "\n",
    "**[NOTE]** The server methods used by pyopencga client are defined in the following swagger URL:\n",
    "- https://ws.opencb.org/opencga-prod/webservices\n",
    "\n",
    "**[NOTE]** Current implemented methods are registered at the following spreadsheet:\n",
    "- https://docs.google.com/spreadsheets/d/1QpU9yl3UTneqwRqFX_WAqCiCfZBk5eU-4E3K-WVvuoc/edit?usp=sharing\n",
    "\n",
    "## Overview\n",
    "\n",
    "add here"
   ]
  },
  {
   "cell_type": "markdown",
   "metadata": {},
   "source": [
    "## 1. Setup the Client and Login into *pyopencga* \n",
    "\n",
    "**Configuration and Credentials** \n",
    "\n",
    "Let's assume we already have *pyopencga* installed in our python setup (all the steps described on [001-pyopencga_first_steps.ipynb](https://github.com/opencb/opencga/tree/develop/opencga-client/src/main/python/notebooks/user-training)).\n",
    "\n",
    "You need to provide **at least** a host server URL in the standard configuration format for OpenCGA as a python dictionary or in a json file.\n"
   ]
  },
  {
   "cell_type": "code",
   "execution_count": 24,
   "metadata": {},
   "outputs": [
    {
     "name": "stdout",
     "output_type": "stream",
     "text": [
      "Config information:\n",
      " {'rest': {'host': 'https://ws.opencb.org/opencga-prod'}}\n"
     ]
    }
   ],
   "source": [
    "from pyopencga.opencga_config import ClientConfiguration # import configuration module\n",
    "from pyopencga.opencga_client import OpencgaClient # import client module\n",
    "from pprint import pprint\n",
    "import json\n",
    "import matplotlib.pyplot as plt\n",
    "import seaborn as sns\n",
    "\n",
    "####################################\n",
    "## Configuration parameters  #######\n",
    "####################################\n",
    "# OpenCGA host\n",
    "host = 'https://ws.opencb.org/opencga-prod'\n",
    "\n",
    "# User credentials\n",
    "user = 'demouser'\n",
    "passwd = 'demouser' ## you can skip this, see below.\n",
    "study = 'demo@family:platinum'\n",
    "####################################\n",
    "\n",
    "# Creating ClientConfiguration dict\n",
    "config_dict = {'rest': {\n",
    "                       'host': host \n",
    "                    }\n",
    "               }\n",
    "print('Config information:\\n',config_dict)\n",
    "\n",
    "# Pass the config_dict dictionary to the ClientConfiguration method\n",
    "config = ClientConfiguration(config_dict)\n",
    "\n",
    "# Create the client\n",
    "oc = OpencgaClient(config)\n",
    "\n",
    "# Pass the credentials to the client\n",
    "# (here we put only the user in order to be asked for the password interactively)\n",
    "# oc.login(user)\n",
    "\n",
    "# or you can pass the user and passwd\n",
    "oc.login(user, passwd)\n"
   ]
  },
  {
   "cell_type": "markdown",
   "metadata": {},
   "source": [
    "Once we have defined a variable with the client configuration and credentials, we can access to all the methods defined for the client. These methods implement calls to query different data models in *OpenCGA*. \n"
   ]
  },
  {
   "cell_type": "code",
   "execution_count": 25,
   "metadata": {},
   "outputs": [],
   "source": [
    "## Define variables to query different data models though the web services\n",
    "\n",
    "## Jacobo thinks better oc.variants.query....\n",
    "\n",
    "variant_client = oc.variants   # Variant Client\n",
    "user_client = oc.users\n",
    "project_client = oc.projects\n",
    "study_client = oc.studies\n",
    "sample_client = oc.samples\n",
    "individual_client = oc.individuals\n",
    "file_client = oc.files\n",
    "cohort_client = oc.cohorts\n",
    "\n"
   ]
  },
  {
   "cell_type": "markdown",
   "metadata": {},
   "source": [
    "## 2. Querying Variants"
   ]
  },
  {
   "cell_type": "markdown",
   "metadata": {},
   "source": [
    "Let's get the variant client to query OpenCGA server"
   ]
  },
  {
   "cell_type": "code",
   "execution_count": 26,
   "metadata": {},
   "outputs": [],
   "source": [
    "# Let's use corpasome study\n",
    "study = 'family:corpasome'"
   ]
  },
  {
   "cell_type": "markdown",
   "metadata": {},
   "source": [
    "### Query variants by gene\n",
    "\n",
    "We can use the `.query()` server to query for variants in a specific gene:"
   ]
  },
  {
   "cell_type": "code",
   "execution_count": 11,
   "metadata": {},
   "outputs": [
    {
     "name": "stdout",
     "output_type": "stream",
     "text": [
      "#Time: 332\n",
      "#Num matches: 26\n",
      "#Num results: 2\n",
      "#Num inserted: 0\n",
      "#Num updated: 0\n",
      "#Num deleted: 0\n",
      "#id\n",
      "13:32884653:G:T\n",
      "13:32889968:G:A\n"
     ]
    }
   ],
   "source": [
    "# Define the gene or genes we want to query\n",
    "\n",
    "genes=['BRCA2']\n",
    "limit=2\n",
    "\n",
    "variants = variant_client.query(study=study, gene=genes, limit=limit) # Other params: exclude='annotation'\n",
    "\n",
    "\n",
    "variants.print_results('id')\n",
    "#pprint(variants.get_result(0))"
   ]
  },
  {
   "cell_type": "markdown",
   "metadata": {},
   "source": [
    "## 3. Aggegation Files"
   ]
  },
  {
   "cell_type": "markdown",
   "metadata": {},
   "source": [
    "## 4. Common queries"
   ]
  },
  {
   "cell_type": "markdown",
   "metadata": {},
   "source": [
    "**Situation**: I'm interested in knowing which variants in RD38 fall on chromosome 15 between 21,242,091 and 23,226,874bp?"
   ]
  },
  {
   "cell_type": "code",
   "execution_count": 12,
   "metadata": {},
   "outputs": [],
   "source": [
    "# Perform the query\n",
    "variants = variant_client.query(study=study, region='15:21242091-23226874', include='id')\n",
    "\n",
    "# Print the results\n",
    "#variants.print_results('id')\n"
   ]
  },
  {
   "cell_type": "markdown",
   "metadata": {},
   "source": [
    "The new function `.to_data_frame()` added in the *pyopencga* release 2.0.1.1, allows you store the results as a *pandas* dataframe object:"
   ]
  },
  {
   "cell_type": "code",
   "execution_count": 15,
   "metadata": {
    "pycharm": {
     "is_executing": true
    }
   },
   "outputs": [
    {
     "name": "stdout",
     "output_type": "stream",
     "text": [
      "The results can be stored and printed as a pandas DF:\n",
      "\n",
      "                 id chromosome reference alternate strand   type     start  \\\n",
      "0  15:22830185:T:C         15         T         C      +    SNV  22830185   \n",
      "1  15:22833202:C:T         15         C         T      +    SNP  22833202   \n",
      "2  15:22840279:G:T         15         G         T      +    SNP  22840279   \n",
      "3  15:22849186:T:-         15         T                +  INDEL  22849186   \n",
      "4  15:22853997:C:T         15         C         T      +    SNV  22853997   \n",
      "\n",
      "        end  length  \n",
      "0  22830185       1  \n",
      "1  22833202       1  \n",
      "2  22840279       1  \n",
      "3  22849186       1  \n",
      "4  22853997       1  \n"
     ]
    }
   ],
   "source": [
    "df = variants.to_data_frame()\n",
    "formatted_df = df.drop(['names', 'studies'], 1)\n",
    "print('The results can be stored and printed as a pandas DF:\\n\\n', formatted_df.head())"
   ]
  },
  {
   "cell_type": "markdown",
   "metadata": {},
   "source": [
    "With the *pandas dataframe* object, you can create plots using *maplotlib* or *seaborn* python libraries to show the results:"
   ]
  },
  {
   "cell_type": "code",
   "execution_count": 16,
   "metadata": {},
   "outputs": [
    {
     "data": {
      "image/png": "[encoded data removed]",
      "text/plain": [
       "<Figure size 432.725x360 with 1 Axes>"
      ]
     },
     "metadata": {},
     "output_type": "display_data"
    }
   ],
   "source": [
    "# Create a plot with the results:\n",
    "\n",
    "sns.set_theme(style=\"darkgrid\")\n",
    "sns.color_palette('deep')\n",
    "sns.displot(data=df, hue='type', hue_order=['INDEL','SNP','SNV'], x=\"start\", bins=50) # multiple= \"dodge\", 'stack'\n",
    "plt.title('Variants in Region of Chromosome 15', fontsize=20, fontweight='bold' )\n",
    "plt.xlabel('Chr15:21242091-23226874 bp', fontsize=12)\n",
    "plt.ylabel('Variant counts', fontsize=12)\n",
    "sns.despine(left=False)\n",
    "plt.show()"
   ]
  },
  {
   "cell_type": "markdown",
   "metadata": {},
   "source": [
    "**Situation:** I am interested in getting a list of all participants in the study, that have:\n",
    "(A) SNVs in NOD2 gene that have MAF of <0.01 in gnomad_NFE AND are missense, start_lost, stop_gained, or stop_lost\n",
    "split by hets and homs.\n",
    "\n",
    "- How I can submit this query but instead of NOD2, for a list of 10 genes (example list: IL3, IL31, IL32, IL34, IL6, IL6R, IL10RA, IL10RB,  IL7, IL7R) to the openCGA server"
   ]
  },
  {
   "cell_type": "code",
   "execution_count": 30,
   "metadata": {
    "pycharm": {
     "is_executing": true
    }
   },
   "outputs": [],
   "source": [
    "# Define the parameters of the variants we want to query\n",
    "\n",
    "genes = ['NOD2','IL3']\n",
    "limit = 5\n",
    "type = ['SNV']\n",
    "ct = ['missense_variant','start_lost','stop_gained','stop_lost'] #List of SO consequence types, e.g. missense_variant,stop_lost or SO:0001583,SO:0001578\n",
    "populationFrequencyMaf='gnomAD:ALL<0.01'\n",
    "\n"
   ]
  },
  {
   "cell_type": "code",
   "execution_count": 31,
   "metadata": {
    "pycharm": {
     "is_executing": true
    }
   },
   "outputs": [
    {
     "name": "stdout",
     "output_type": "stream",
     "text": [
      "#Time: 460\n",
      "#Num matches: 1\n",
      "#Num results: 1\n",
      "#Num inserted: 0\n",
      "#Num updated: 0\n",
      "#Num deleted: 0\n",
      "#id\n",
      "16:50744624:C:T\n"
     ]
    }
   ],
   "source": [
    "variants = variant_client.query(study=study, gene=genes, type=type, ct=ct, \n",
    "                                populationFrequencyMaf=populationFrequencyMaf, limit=limit) \n",
    "\n",
    "\n",
    "variants.print_results('id')\n",
    "#pprint(variants.get_result(0))\n"
   ]
  },
  {
   "cell_type": "code",
   "execution_count": null,
   "metadata": {
    "pycharm": {
     "is_executing": true
    }
   },
   "outputs": [],
   "source": []
  }
 ],
 "metadata": {
  "kernelspec": {
   "display_name": "Python 3",
   "language": "python",
   "name": "python3"
  },
  "language_info": {
   "codemirror_mode": {
    "name": "ipython",
    "version": 3
   },
   "file_extension": ".py",
   "mimetype": "text/x-python",
   "name": "python",
   "nbconvert_exporter": "python",
   "pygments_lexer": "ipython3",
   "version": "3.8.5"
  }
 },
 "nbformat": 4,
 "nbformat_minor": 4
}
