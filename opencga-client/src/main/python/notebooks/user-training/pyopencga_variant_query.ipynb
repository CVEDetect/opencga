{
 "cells": [
  {
   "cell_type": "markdown",
   "metadata": {},
   "source": [
    "# *pyopencga* Basic Variant and Interpretation Usage\n",
    "\n",
    "------\n",
    "\n",
    "\n",
    "**[NOTE]** The server methods used by pyopencga client are defined in the following swagger URL:\n",
    "- https://ws.opencb.org/opencga-prod/webservices\n",
    "\n",
    "**[NOTE]** Current implemented methods are registered at the following spreadsheet:\n",
    "- https://docs.google.com/spreadsheets/d/1QpU9yl3UTneqwRqFX_WAqCiCfZBk5eU-4E3K-WVvuoc/edit?usp=sharing\n",
    "\n",
    "## Overview\n",
    "\n",
    "add here"
   ]
  },
  {
   "cell_type": "markdown",
   "metadata": {},
   "source": [
    "## 1. Setup the Client and Login into *pyopencga* \n",
    "\n",
    "**Configuration and Credentials** \n",
    "\n",
    "Let's assume we already have *pyopencga* installed in our python setup (all the steps described on [001-pyopencga_first_steps.ipynb](https://github.com/opencb/opencga/tree/develop/opencga-client/src/main/python/notebooks/user-training)).\n",
    "\n",
    "You need to provide **at least** a host server URL in the standard configuration format for OpenCGA as a python dictionary or in a json file.\n"
   ]
  },
  {
   "cell_type": "code",
   "execution_count": 8,
   "metadata": {},
   "outputs": [
    {
     "name": "stdout",
     "output_type": "stream",
     "text": [
      "Config information:\n",
      " {'rest': {'host': 'https://ws.opencb.org/opencga-prod'}}\n"
     ]
    }
   ],
   "source": [
    "from pyopencga.opencga_config import ClientConfiguration # import configuration module\n",
    "from pyopencga.opencga_client import OpencgaClient # import client module\n",
    "from pprint import pprint\n",
    "import json\n",
    "\n",
    "####################################\n",
    "## Configuration parameters  #######\n",
    "####################################\n",
    "# OpenCGA host\n",
    "host = 'https://ws.opencb.org/opencga-prod'\n",
    "\n",
    "# User credentials\n",
    "user = 'demouser'\n",
    "passwd = 'demouser' ## you can skip this, see below.\n",
    "study = 'demo@family:platinum'\n",
    "####################################\n",
    "\n",
    "# Creating ClientConfiguration dict\n",
    "config_dict = {'rest': {\n",
    "                       'host': host \n",
    "                    }\n",
    "               }\n",
    "print('Config information:\\n',config_dict)\n",
    "\n",
    "# Pass the config_dict dictionary to the ClientConfiguration method\n",
    "config = ClientConfiguration(config_dict)\n",
    "\n",
    "# Create the client\n",
    "oc = OpencgaClient(config)\n",
    "\n",
    "# Pass the credentials to the client\n",
    "# (here we put only the user in order to be asked for the password interactively)\n",
    "# oc.login(user)\n",
    "\n",
    "# or you can pass the user and passwd\n",
    "oc.login(user, passwd)\n"
   ]
  },
  {
   "cell_type": "markdown",
   "metadata": {},
   "source": [
    "Once we have defined a variable with the client configuration and credentials, we can access to all the methods defined for the client. These methods implement calls to query different data models in *OpenCGA*. \n"
   ]
  },
  {
   "cell_type": "code",
   "execution_count": 9,
   "metadata": {},
   "outputs": [],
   "source": [
    "## Define variables to query different data models though the web services\n",
    "\n",
    "## Jacobo thinks better oc.variants.query....\n",
    "\n",
    "variant_client = oc.variants   # Variant Client\n",
    "user_client = oc.users\n",
    "project_client = oc.projects\n",
    "study_client = oc.studies\n",
    "sample_client = oc.samples\n",
    "individual_client = oc.individuals\n",
    "file_client = oc.files\n",
    "cohort_client = oc.cohorts\n",
    "\n"
   ]
  },
  {
   "cell_type": "markdown",
   "metadata": {},
   "source": [
    "## 2. Querying Variants"
   ]
  },
  {
   "cell_type": "markdown",
   "metadata": {},
   "source": [
    "Let's get the variant client to query OpenCGA server"
   ]
  },
  {
   "cell_type": "code",
   "execution_count": 10,
   "metadata": {},
   "outputs": [],
   "source": [
    "# Let's use corpasome study\n",
    "study = 'family:corpasome'"
   ]
  },
  {
   "cell_type": "markdown",
   "metadata": {},
   "source": [
    "### Query variants by gene\n",
    "\n",
    "We can use the `.query()` server to query for variants in a specific gene:"
   ]
  },
  {
   "cell_type": "code",
   "execution_count": 11,
   "metadata": {},
   "outputs": [
    {
     "name": "stdout",
     "output_type": "stream",
     "text": [
      "#Time: 346\n",
      "#Num matches: 26\n",
      "#Num results: 2\n",
      "#Num inserted: 0\n",
      "#Num updated: 0\n",
      "#Num deleted: 0\n",
      "#id\n",
      "13:32884653:G:T\n",
      "13:32889968:G:A\n"
     ]
    }
   ],
   "source": [
    "# Define the gene or genes we want to query\n",
    "\n",
    "genes=['BRCA2']\n",
    "limit=2\n",
    "\n",
    "variants = variant_client.query(study=study, gene=genes, limit=limit) # Other params: exclude='annotation'\n",
    "\n",
    "\n",
    "variants.print_results('id')\n",
    "#pprint(variants.get_result(0))"
   ]
  },
  {
   "cell_type": "markdown",
   "metadata": {},
   "source": [
    "## 3. Aggegation Files"
   ]
  },
  {
   "cell_type": "markdown",
   "metadata": {},
   "source": [
    "## 4. Common queries"
   ]
  },
  {
   "cell_type": "markdown",
   "metadata": {},
   "source": [
    "### Filtering by region/gene\n",
    "Which variants in cohort A are in genomic region B?\n"
   ]
  },
  {
   "cell_type": "markdown",
   "metadata": {},
   "source": [
    "\n",
    "Which variants in RD38 fall on chromosome 15 between 21,242,091 and 23,226,874bp?"
   ]
  },
  {
   "cell_type": "code",
   "execution_count": 13,
   "metadata": {},
   "outputs": [],
   "source": [
    "# Perform the query\n",
    "variants = variant_client.query(study=study, region='15:21242091-23226874', include='id')\n",
    "\n",
    "#Print the results\n",
    "#variants.print_results('id')\n"
   ]
  },
  {
   "cell_type": "markdown",
   "metadata": {},
   "source": [
    "The new function `.to_data_frame()` added in the *pyopencga* release 2.0.1.1, allows you store the results as a *pandas* dataframe object:"
   ]
  },
  {
   "cell_type": "code",
   "execution_count": 19,
   "metadata": {},
   "outputs": [
    {
     "name": "stdout",
     "output_type": "stream",
     "text": [
      "The results can be stored and printed as a pandas DF:\n",
      "\n",
      "                 id chromosome reference alternate strand   type     start  \\\n",
      "0  15:22830185:T:C         15         T         C      +    SNV  22830185   \n",
      "1  15:22833202:C:T         15         C         T      +    SNP  22833202   \n",
      "2  15:22840279:G:T         15         G         T      +    SNP  22840279   \n",
      "3  15:22849186:T:-         15         T                +  INDEL  22849186   \n",
      "4  15:22853997:C:T         15         C         T      +    SNV  22853997   \n",
      "\n",
      "        end  length  \n",
      "0  22830185       1  \n",
      "1  22833202       1  \n",
      "2  22840279       1  \n",
      "3  22849186       1  \n",
      "4  22853997       1  \n"
     ]
    }
   ],
   "source": [
    "df = variants.to_data_frame()\n",
    "formated_df = df.drop(['names', 'studies'], 1)\n",
    "print('The results can be stored and printed as a pandas DF:\\n\\n', formated_df.head())"
   ]
  },
  {
   "cell_type": "code",
   "execution_count": 46,
   "metadata": {},
   "outputs": [
    {
     "name": "stdout",
     "output_type": "stream",
     "text": [
      "{'alternate': 'A',\n",
      " 'chromosome': '15',\n",
      " 'end': 72070929,\n",
      " 'id': '15:72070929:G:A',\n",
      " 'length': 1,\n",
      " 'names': [],\n",
      " 'reference': 'G',\n",
      " 'start': 72070929,\n",
      " 'strand': '+',\n",
      " 'studies': [],\n",
      " 'type': 'SNV'}\n"
     ]
    }
   ],
   "source": [
    "oc.disease_panels.\n",
    "variants = variant_client.query(study=study, chromosome=15, include='id')\n",
    "\n",
    "pprint(variants.get_result(0))\n",
    "#variants.print_results('id')"
   ]
  },
  {
   "cell_type": "code",
   "execution_count": 51,
   "metadata": {},
   "outputs": [
    {
     "name": "stdout",
     "output_type": "stream",
     "text": [
      "{'alternate': 'T',\n",
      " 'chromosome': '15',\n",
      " 'end': 22853997,\n",
      " 'id': '15:22853997:C:T',\n",
      " 'length': 1,\n",
      " 'names': [],\n",
      " 'reference': 'C',\n",
      " 'start': 22853997,\n",
      " 'strand': '+',\n",
      " 'studies': [],\n",
      " 'type': 'SNV'}\n"
     ]
    }
   ],
   "source": [
    "variants = variant_client.query(study=study, region='15:21242091-23226874', include='id')\n",
    "\n",
    "pprint(variants.get_result(4))\n",
    "#variants.print_results('id')"
   ]
  },
  {
   "cell_type": "code",
   "execution_count": null,
   "metadata": {},
   "outputs": [],
   "source": []
  }
 ],
 "metadata": {
  "kernelspec": {
   "display_name": "Python 3",
   "language": "python",
   "name": "python3"
  },
  "language_info": {
   "codemirror_mode": {
    "name": "ipython",
    "version": 3
   },
   "file_extension": ".py",
   "mimetype": "text/x-python",
   "name": "python",
   "nbconvert_exporter": "python",
   "pygments_lexer": "ipython3",
   "version": "3.8.5"
  }
 },
 "nbformat": 4,
 "nbformat_minor": 4
}
