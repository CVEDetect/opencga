{
 "cells": [
  {
   "cell_type": "markdown",
   "metadata": {},
   "source": [
    "# *pyopencga* Basic Variant and Interpretation Usage\n",
    "\n",
    "------\n",
    "\n",
    "\n",
    "**[NOTE]** The server methods used by pyopencga client are defined in the following swagger URL:\n",
    "- http://bioinfodev.hpc.cam.ac.uk/opencga-test/webservices\n",
    "\n",
    "**[NOTE]** Current implemented methods are registered at the following spreadsheet:\n",
    "- https://docs.google.com/spreadsheets/d/1QpU9yl3UTneqwRqFX_WAqCiCfZBk5eU-4E3K-WVvuoc/edit?usp=sharing\n",
    "\n",
    "## Overview\n",
    "\n",
    "add here"
   ]
  },
  {
   "cell_type": "markdown",
   "metadata": {},
   "source": [
    "## 1. Setup the Client and Login into *pyopencga* \n",
    "\n",
    "**Configuration and Credentials** \n",
    "\n",
    "Let's assume we already have *pyopencga* installed in our python setup (all the steps described on [001-pyopencga_first_steps.ipynb](https://github.com/opencb/opencga/tree/develop/opencga-client/src/main/python/notebooks/user-training)).\n",
    "\n",
    "You need to provide **at least** a host server URL in the standard configuration format for OpenCGA as a python dictionary or in a json file.\n"
   ]
  },
  {
   "cell_type": "code",
   "execution_count": 1,
   "metadata": {},
   "outputs": [
    {
     "name": "stdout",
     "output_type": "stream",
     "text": [
      "Config information:\n",
      " {'rest': {'host': 'https://ws.opencb.org/opencga-prod'}}\n"
     ]
    }
   ],
   "source": [
    "from pyopencga.opencga_config import ClientConfiguration # import configuration module\n",
    "from pyopencga.opencga_client import OpencgaClient # import client module\n",
    "from pprint import pprint\n",
    "import json\n",
    "\n",
    "####################################\n",
    "## Configuration parameters  #######\n",
    "####################################\n",
    "# OpenCGA host\n",
    "host = 'https://ws.opencb.org/opencga-prod'\n",
    "\n",
    "# User credentials\n",
    "user = 'demouser'\n",
    "passwd = 'demouser' ## you can skip this, see below.\n",
    "study = 'demo@family:platinum'\n",
    "####################################\n",
    "\n",
    "# Creating ClientConfiguration dict\n",
    "config_dict = {'rest': {\n",
    "                       'host': host \n",
    "                    }\n",
    "               }\n",
    "print('Config information:\\n',config_dict)\n",
    "\n",
    "# Pass the config_dict dictionary to the ClientConfiguration method\n",
    "config = ClientConfiguration(config_dict)\n",
    "\n",
    "# Create the client\n",
    "oc = OpencgaClient(config)\n",
    "\n",
    "# Pass the credentials to the client\n",
    "# (here we put only the user in order to be asked for the password interactively)\n",
    "# oc.login(user)\n",
    "\n",
    "# or you can pass the user and passwd\n",
    "oc.login(user, passwd)\n"
   ]
  },
  {
   "cell_type": "markdown",
   "metadata": {},
   "source": [
    "Once we have defined a variable with the client configuration and credentials, we can access to all the methods defined for the client. These methods implement calls to query different data models in *OpenCGA*. \n"
   ]
  },
  {
   "cell_type": "code",
   "execution_count": 3,
   "metadata": {},
   "outputs": [],
   "source": [
    "## Define variables to query different data models though the web services\n",
    "\n",
    "variant_client = oc.variants   # Variant Client\n",
    "\n",
    "user_client = oc.users\n",
    "project_client = oc.projects\n",
    "study_client = oc.studies\n",
    "sample_client = oc.samples\n",
    "individual_client = oc.individuals\n",
    "file_client = oc.files\n",
    "cohort_client = oc.cohorts\n",
    "\n"
   ]
  },
  {
   "cell_type": "markdown",
   "metadata": {},
   "source": [
    "## 2. Querying Variants"
   ]
  },
  {
   "cell_type": "markdown",
   "metadata": {},
   "source": [
    "Let's get the variant client to query OpenCGA server"
   ]
  },
  {
   "cell_type": "code",
   "execution_count": 43,
   "metadata": {},
   "outputs": [],
   "source": [
    "## Let's use corpasome study\n",
    "study = 'family:corpasome'\n",
    "variant_client = oc.variants\n",
    "variants = variant_client.query(study=study, gene='BRCA2', limit=1) #exclude='annotation')\n",
    "\n",
    "#pprint(variants.get_result(0))\n",
    "#variants.print_results('id')"
   ]
  },
  {
   "cell_type": "markdown",
   "metadata": {},
   "source": [
    "## 3. Aggegation Files"
   ]
  },
  {
   "cell_type": "markdown",
   "metadata": {},
   "source": [
    "**Filtering by region/gene**\n",
    "Which variants in cohort A are in genomic region B?\n",
    "Which variants in cohort A are in genomic region B?"
   ]
  },
  {
   "cell_type": "markdown",
   "metadata": {},
   "source": [
    "\n",
    "Which variants in RD38 fall on chromosome 15 between 21,242,091 and 23,226,874bp?"
   ]
  },
  {
   "cell_type": "code",
   "execution_count": 53,
   "metadata": {},
   "outputs": [
    {
     "name": "stdout",
     "output_type": "stream",
     "text": [
      "'15:22866621:G:A'\n"
     ]
    }
   ],
   "source": [
    "## Let's use corpasome study\n",
    "study = 'family:corpasome'\n",
    "variant_client = oc.variants\n",
    "variant_query1 = variant_client.query(study=study, chromosome='15:21242091-23226874', exclude='annotation')\n",
    "\n",
    "results = variants.get_result()\n",
    "\n",
    "for result in results:\n",
    "    print()\n",
    "\n",
    "pprint(variants.get_result(7)['id'])\n",
    "#variants.print_results('id')"
   ]
  },
  {
   "cell_type": "code",
   "execution_count": 46,
   "metadata": {},
   "outputs": [
    {
     "name": "stdout",
     "output_type": "stream",
     "text": [
      "{'alternate': 'A',\n",
      " 'chromosome': '15',\n",
      " 'end': 72070929,\n",
      " 'id': '15:72070929:G:A',\n",
      " 'length': 1,\n",
      " 'names': [],\n",
      " 'reference': 'G',\n",
      " 'start': 72070929,\n",
      " 'strand': '+',\n",
      " 'studies': [],\n",
      " 'type': 'SNV'}\n"
     ]
    }
   ],
   "source": [
    "oc.disease_panels.\n",
    "variants = variant_client.query(study=study, chromosome=15, include='id')\n",
    "\n",
    "pprint(variants.get_result(0))\n",
    "#variants.print_results('id')"
   ]
  },
  {
   "cell_type": "code",
   "execution_count": 51,
   "metadata": {},
   "outputs": [
    {
     "name": "stdout",
     "output_type": "stream",
     "text": [
      "{'alternate': 'T',\n",
      " 'chromosome': '15',\n",
      " 'end': 22853997,\n",
      " 'id': '15:22853997:C:T',\n",
      " 'length': 1,\n",
      " 'names': [],\n",
      " 'reference': 'C',\n",
      " 'start': 22853997,\n",
      " 'strand': '+',\n",
      " 'studies': [],\n",
      " 'type': 'SNV'}\n"
     ]
    }
   ],
   "source": [
    "variants = variant_client.query(study=study, region='15:21242091-23226874', include='id')\n",
    "\n",
    "pprint(variants.get_result(4))\n",
    "#variants.print_results('id')"
   ]
  },
  {
   "cell_type": "code",
   "execution_count": null,
   "metadata": {},
   "outputs": [],
   "source": []
  }
 ],
 "metadata": {
  "kernelspec": {
   "display_name": "Python 3",
   "language": "python",
   "name": "python3"
  },
  "language_info": {
   "codemirror_mode": {
    "name": "ipython",
    "version": 3
   },
   "file_extension": ".py",
   "mimetype": "text/x-python",
   "name": "python",
   "nbconvert_exporter": "python",
   "pygments_lexer": "ipython3",
   "version": "3.8.5"
  }
 },
 "nbformat": 4,
 "nbformat_minor": 4
}