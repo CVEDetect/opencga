{
 "cells": [
  {
   "cell_type": "markdown",
   "metadata": {},
   "source": [
    "# *pyopencga* Basic Variant and Interpretation Usage\n",
    "\n",
    "------\n",
    "\n",
    "\n",
    "**[NOTE]** The server methods used by pyopencga client are defined in the following swagger URL:\n",
    "- https://ws.opencb.org/opencga-prod/webservices\n",
    "\n",
    "**[NOTE]** Current implemented methods are registered at the following spreadsheet:\n",
    "- https://docs.google.com/spreadsheets/d/1QpU9yl3UTneqwRqFX_WAqCiCfZBk5eU-4E3K-WVvuoc/edit?usp=sharing\n",
    "\n",
    "## Overview\n",
    "\n",
    "add here"
   ]
  },
  {
   "cell_type": "markdown",
   "metadata": {},
   "source": [
    "## 1. Setup the Client and Login into *pyopencga* \n",
    "\n",
    "**Configuration and Credentials** \n",
    "\n",
    "Let's assume we already have *pyopencga* installed in our python setup (all the steps described on [001-pyopencga_first_steps.ipynb](https://github.com/opencb/opencga/tree/develop/opencga-client/src/main/python/notebooks/user-training)).\n",
    "\n",
    "You need to provide **at least** a host server URL in the standard configuration format for OpenCGA as a python dictionary or in a json file.\n"
   ]
  },
  {
   "cell_type": "code",
   "execution_count": 15,
   "metadata": {},
   "outputs": [
    {
     "name": "stdout",
     "output_type": "stream",
     "text": [
      "Config information:\n",
      " {'rest': {'host': 'https://ws.opencb.org/opencga-prod'}}\n"
     ]
    }
   ],
   "source": [
    "from pyopencga.opencga_config import ClientConfiguration # import configuration module\n",
    "from pyopencga.opencga_client import OpencgaClient # import client module\n",
    "from pprint import pprint\n",
    "import json\n",
    "\n",
    "####################################\n",
    "## Configuration parameters  #######\n",
    "####################################\n",
    "# OpenCGA host\n",
    "host = 'https://ws.opencb.org/opencga-prod'\n",
    "\n",
    "# User credentials\n",
    "user = 'demouser'\n",
    "passwd = 'demouser' ## you can skip this, see below.\n",
    "# study = 'demo@family:platinum'\n",
    "study = 'family:corpasome'\n",
    "####################################\n",
    "\n",
    "# Creating ClientConfiguration dict\n",
    "config_dict = {'rest': {\n",
    "                       'host': host \n",
    "                    }\n",
    "               }\n",
    "print('Config information:\\n',config_dict)\n",
    "\n",
    "# Pass the config_dict dictionary to the ClientConfiguration method\n",
    "config = ClientConfiguration(config_dict)\n",
    "\n",
    "# Create the client\n",
    "oc = OpencgaClient(config)\n",
    "\n",
    "# Pass the credentials to the client\n",
    "# (here we put only the user in order to be asked for the password interactively)\n",
    "# oc.login(user)\n",
    "\n",
    "# or you can pass the user and passwd\n",
    "oc.login(user, passwd)\n"
   ]
  },
  {
   "cell_type": "markdown",
   "metadata": {},
   "source": [
    "Once we have defined a variable with the client configuration and credentials, we can access to all the methods defined for the client. These methods implement calls to query different data models in *OpenCGA*. \n"
   ]
  },
  {
   "cell_type": "code",
<<<<<<< HEAD
   "execution_count": 2,
=======
   "execution_count": 16,
>>>>>>> 3d5fbccd15940beffe4630a0af8d61b3fe7da005
   "metadata": {},
   "outputs": [],
   "source": [
    "## Define variables to query different data models though the web services\n",
    "\n",
    "## Jacobo thinks better oc.variants.query....\n",
    "\n",
    "variant_client = oc.variants   # Variant Client\n",
    "user_client = oc.users\n",
    "project_client = oc.projects\n",
    "study_client = oc.studies\n",
    "sample_client = oc.samples\n",
    "individual_client = oc.individuals\n",
    "file_client = oc.files\n",
    "cohort_client = oc.cohorts\n",
    "\n"
   ]
  },
  {
   "cell_type": "markdown",
   "metadata": {},
   "source": [
    "## 2. Querying Variants"
   ]
  },
  {
   "cell_type": "markdown",
   "metadata": {},
   "source": [
    "Total number of variants:"
   ]
  },
  {
   "cell_type": "code",
   "execution_count": 17,
   "metadata": {},
   "outputs": [
    {
     "name": "stdout",
     "output_type": "stream",
     "text": [
      "[{'attributes': {'approximateCount': False, 'source': 'solr+hadoop'},\n",
      "  'events': [],\n",
      "  'numDeleted': 0,\n",
      "  'numInserted': 0,\n",
      "  'numMatches': 300711,\n",
      "  'numResults': 0,\n",
      "  'numTotalResults': 300711,\n",
      "  'numUpdated': 0,\n",
      "  'result': [],\n",
      "  'resultType': '',\n",
      "  'results': [],\n",
      "  'time': 0}]\n"
     ]
    }
   ],
   "source": [
    "## Let's use corpasome study\n",
    "variant_client = oc.variants\n",
    "variants = variant_client.query(study=study, count=True, limit=0) #exclude='annotation')\n",
    "\n",
    "#pprint(variants.get_result(0))\n",
    "pprint(variants.responses)"
   ]
  },
  {
   "cell_type": "markdown",
   "metadata": {},
   "source": [
    "Filter by region:"
   ]
  },
  {
   "cell_type": "code",
   "execution_count": 19,
   "metadata": {},
   "outputs": [
    {
     "name": "stdout",
     "output_type": "stream",
     "text": [
      "#Time: 3213\n",
      "#Num matches: 20\n",
      "#Num results: 5\n",
      "#Num inserted: 0\n",
      "#Num updated: 0\n",
      "#Num deleted: 0\n",
      "#id\tannotation.displayConsequenceType\tannotation.consequenceTypes.geneName\n",
      "1:1233941:T:C\tsplice_region_variant\tACAP3\n",
      "1:1558792:T:C\tstart_lost\tMIB2\n",
      "1:1647778:C:G\tsplice_region_variant\tRP1-283E3.8,CDK11A\n",
      "1:1650797:A:G\tmissense_variant\tRP1-283E3.8,CDK11A\n",
      "1:1653028:C:T\tsplice_region_variant\tRP1-283E3.8,RP1-283E3.4,CDK11A,SLC35E2\n"
     ]
    }
   ],
   "source": [
    "## Let's use corpasome study\n",
    "variant_client = oc.variants\n",
    "variants = variant_client.query(study=study, region='1:1000000-10000000', ct='lof', count=True, limit=5) #exclude='annotation')\n",
    "\n",
    "#pprint(variants.get_result(0))\n",
    "variants.print_results('id,annotation.displayConsequenceType,annotation.consequenceTypes.geneName')"
   ]
  },
  {
   "cell_type": "markdown",
   "metadata": {},
   "source": [
    "Filter by type:"
   ]
  },
  {
   "cell_type": "code",
   "execution_count": 25,
   "metadata": {},
   "outputs": [
    {
     "name": "stdout",
     "output_type": "stream",
     "text": [
      "#Time: 334\n",
      "#Num matches: 1566\n",
      "#Num results: 5\n",
      "#Num inserted: 0\n",
      "#Num updated: 0\n",
      "#Num deleted: 0\n",
      "#id\tannotation.displayConsequenceType\tannotation.consequenceTypes.geneName\n",
      "1:1001177:G:C\tintron_variant\tRP11-465B22.3,RP11-54O7.18\n",
      "1:1001178:T:G\tintron_variant\tRP11-465B22.3,RP11-54O7.18\n",
      "1:1162541:G:C\tintron_variant\tSDF4\n",
      "1:1162673:G:C\tnon_coding_transcript_exon_variant\tB3GALT6,SDF4\n",
      "1:1163266:G:A\tintron_variant\tB3GALT6,SDF4\n"
     ]
    }
   ],
   "source": [
    "## Let's use corpasome study\n",
    "variant_client = oc.variants\n",
    "variants = variant_client.query(study=study, region='1:1000000-10000000', type='SNV', count=True, limit=5) #exclude='annotation')\n",
    "\n",
    "#pprint(variants.get_result(0))\n",
    "variants.print_results('id,annotation.displayConsequenceType,annotation.consequenceTypes.geneName')"
   ]
  },
  {
   "cell_type": "markdown",
   "metadata": {},
   "source": [
    "Let's get the variant client to query OpenCGA server"
   ]
  },
  {
   "cell_type": "code",
<<<<<<< HEAD
   "execution_count": 3,
=======
   "execution_count": 26,
>>>>>>> 3d5fbccd15940beffe4630a0af8d61b3fe7da005
   "metadata": {},
   "outputs": [
    {
     "name": "stdout",
     "output_type": "stream",
     "text": [
      "#Time: 349\n",
      "#Num matches: 26\n",
      "#Num results: 5\n",
      "#Num inserted: 0\n",
      "#Num updated: 0\n",
      "#Num deleted: 0\n",
      "#id\tannotation.displayConsequenceType\tannotation.consequenceTypes.geneName\n",
      "13:32884653:G:T\tintron_variant\tBRCA2,ZAR1L\n",
      "13:32889968:G:A\tintron_variant\tBRCA2,ZAR1L\n",
      "13:32890572:G:A\t5_prime_UTR_variant\tBRCA2,ZAR1L\n",
      "13:32900933:T:A\tintron_variant\tBRCA2\n",
      "13:32903685:C:T\tintron_variant\tBRCA2\n"
     ]
    }
   ],
   "source": [
<<<<<<< HEAD
    "# Let's use corpasome study\n",
    "study = 'family:corpasome'\n"
   ]
  },
  {
   "cell_type": "markdown",
   "metadata": {},
   "source": [
    "### Query variants by gene\n",
    "\n",
    "We can use the `.query()` server to query for variants in a specific gene:"
=======
    "## Let's use corpasome study\n",
    "variant_client = oc.variants\n",
    "variants = variant_client.query(study=study, gene='BRCA2', count=True, limit=5) #exclude='annotation')\n",
    "\n",
    "#pprint(variants.get_result(0))\n",
    "variants.print_results('id,annotation.displayConsequenceType,annotation.consequenceTypes.geneName')"
   ]
  },
  {
   "cell_type": "markdown",
   "metadata": {},
   "source": [
    "Filter variants per gene and consequence type"
>>>>>>> 3d5fbccd15940beffe4630a0af8d61b3fe7da005
   ]
  },
  {
   "cell_type": "code",
<<<<<<< HEAD
   "execution_count": 5,
=======
   "execution_count": 35,
>>>>>>> 3d5fbccd15940beffe4630a0af8d61b3fe7da005
   "metadata": {},
   "outputs": [
    {
     "name": "stdout",
     "output_type": "stream",
     "text": [
<<<<<<< HEAD
      "#Time: 382\n",
      "#Num matches: 26\n",
      "#Num results: 2\n",
      "#Num inserted: 0\n",
      "#Num updated: 0\n",
      "#Num deleted: 0\n",
      "#id\n",
      "13:32884653:G:T\n",
      "13:32889968:G:A\n"
=======
      "#Time: 284\n",
      "#Num matches: 3\n",
      "#Num results: 3\n",
      "#Num inserted: 0\n",
      "#Num updated: 0\n",
      "#Num deleted: 0\n",
      "#id\tannotation.displayConsequenceType\tannotation.consequenceTypes.geneName\n",
      "13:32906729:A:C\t.\t.\n",
      "13:32913404:A:T\t.\t.\n",
      "13:32929387:T:C\t.\t.\n"
>>>>>>> 3d5fbccd15940beffe4630a0af8d61b3fe7da005
     ]
    }
   ],
   "source": [
<<<<<<< HEAD
    "# Define the gene or genes we want to query\n",
    "\n",
    "genes=['BRCA2']\n",
    "limit=2\n",
    "\n",
    "variants = variant_client.query(study=study, gene=genes, limit=limit) # Other params: exclude='annotation'\n",
    "\n",
    "\n",
    "variants.print_results('id')\n",
    "#pprint(variants.get_result(0))"
=======
    "## Let's use corpasome study\n",
    "variant_client = oc.variants\n",
    "variants = variant_client.query(study=study, gene='BRCA2', ct='lof,missense_variant', count=True, limit=5, exclude='annotation') #exclude='annotation')\n",
    "\n",
    "#pprint(variants.get_result(0))\n",
    "variants.print_results('id,annotation.displayConsequenceType,annotation.consequenceTypes.geneName')\n",
    "\n",
    "#pprint(variants.get_results(0))"
   ]
  },
  {
   "cell_type": "markdown",
   "metadata": {},
   "source": [
    "Clinvar Pathogenic variant:"
   ]
  },
  {
   "cell_type": "code",
   "execution_count": 37,
   "metadata": {},
   "outputs": [
    {
     "name": "stdout",
     "output_type": "stream",
     "text": [
      "#Time: 325\n",
      "#Num matches: 1\n",
      "#Num results: 1\n",
      "#Num inserted: 0\n",
      "#Num updated: 0\n",
      "#Num deleted: 0\n",
      "#id\tannotation.displayConsequenceType\tannotation.consequenceTypes.geneName\n",
      "13:32913404:A:T\tstop_gained\tBRCA2\n"
     ]
    }
   ],
   "source": [
    "## Let's use corpasome study\n",
    "variant_client = oc.variants\n",
    "variants = variant_client.query(study=study, gene='BRCA2', ct='lof,missense_variant', clinicalSignificance='pathogenic', count=True, limit=5) #exclude='annotation')\n",
    "\n",
    "#pprint(variants.get_result(0))\n",
    "variants.print_results('id,annotation.displayConsequenceType,annotation.consequenceTypes.geneName')"
   ]
  },
  {
   "cell_type": "markdown",
   "metadata": {},
   "source": [
    "Filter y sample:"
   ]
  },
  {
   "cell_type": "code",
   "execution_count": 41,
   "metadata": {},
   "outputs": [
    {
     "name": "stdout",
     "output_type": "stream",
     "text": [
      "#Time: 294\n",
      "#Num matches: 9\n",
      "#Num results: 9\n",
      "#Num inserted: 0\n",
      "#Num updated: 0\n",
      "#Num deleted: 0\n",
      "#id\tannotation.displayConsequenceType\tannotation.consequenceTypes.geneName\n",
      "13:32889968:G:A\tintron_variant\tBRCA2,ZAR1L\n",
      "13:32905265:G:A\tintron_variant\tBRCA2\n",
      "13:32906729:A:C\tmissense_variant\tBRCA2\n",
      "13:32913055:A:G\tsynonymous_variant\tBRCA2\n",
      "13:32915005:G:C\tsynonymous_variant\tBRCA2\n",
      "13:32929387:T:C\tmissense_variant\tBRCA2\n",
      "13:32930936:G:A\tintron_variant\tBRCA2\n",
      "13:32959534:A:G\tnon_coding_transcript_exon_variant\tBRCA2,IFIT1P1\n",
      "13:32977496:C:A\tintron_variant\tBRCA2,N4BP2L1\n"
     ]
    }
   ],
   "source": [
    "## Let's use corpasome study\n",
    "variant_client = oc.variants\n",
    "variants = variant_client.query(study=study, sample='ISDBM322015', gene='BRCA2', count=True, limit=10) #exclude='annotation')\n",
    "\n",
    "#pprint(variants.get_result(0))\n",
    "variants.print_results('id,annotation.displayConsequenceType,annotation.consequenceTypes.geneName')"
   ]
  },
  {
   "cell_type": "markdown",
   "metadata": {},
   "source": [
    "Filter by recessive:"
   ]
  },
  {
   "cell_type": "code",
   "execution_count": 42,
   "metadata": {},
   "outputs": [
    {
     "name": "stdout",
     "output_type": "stream",
     "text": [
      "#Time: 479\n",
      "#Num matches: 1\n",
      "#Num results: 1\n",
      "#Num inserted: 0\n",
      "#Num updated: 0\n",
      "#Num deleted: 0\n",
      "#id\tannotation.displayConsequenceType\tannotation.consequenceTypes.geneName\n",
      "13:32977496:C:A\tintron_variant\tBRCA2,N4BP2L1\n"
     ]
    }
   ],
   "source": [
    "## Let's use corpasome study\n",
    "variant_client = oc.variants\n",
    "variants = variant_client.query(study=study, sample='ISDBM322015:DOMINANTT', gene='BRCA2', count=True, limit=5) #exclude='annotation')\n",
    "\n",
    "#pprint(variants.get_result(0))\n",
    "variants.print_results('id,annotation.displayConsequenceType,annotation.consequenceTypes.geneName')"
>>>>>>> 3d5fbccd15940beffe4630a0af8d61b3fe7da005
   ]
  },
  {
   "cell_type": "markdown",
   "metadata": {},
   "source": [
    "## 3. Aggegation Variant"
   ]
  },
  {
   "cell_type": "code",
   "execution_count": null,
   "metadata": {},
   "outputs": [],
   "source": []
  },
  {
   "cell_type": "markdown",
   "metadata": {},
   "source": [
    "**Filtering by region/gene**\n",
    "Which variants in cohort A are in genomic region B?\n",
    "Which variants in cohort A are in genomic region B?"
   ]
  },
  {
   "cell_type": "markdown",
   "metadata": {},
   "source": [
    "\n",
    "Which variants in RD38 fall on chromosome 15 between 21,242,091 and 23,226,874bp?"
   ]
  },
  {
   "cell_type": "code",
   "execution_count": 53,
   "metadata": {},
   "outputs": [
    {
     "name": "stdout",
     "output_type": "stream",
     "text": [
      "'15:22866621:G:A'\n"
     ]
    }
   ],
   "source": [
    "## Let's use corpasome study\n",
    "study = 'family:corpasome'\n",
    "variant_client = oc.variants\n",
    "variant_query1 = variant_client.query(study=study, chromosome='15:21242091-23226874', exclude='annotation')\n",
    "\n",
    "results = variants.get_result()\n",
    "\n",
    "for result in results:\n",
    "    print()\n",
    "\n",
    "pprint(variants.get_result(7)['id'])\n",
    "#variants.print_results('id')"
   ]
  },
  {
   "cell_type": "code",
   "execution_count": 46,
   "metadata": {},
   "outputs": [
    {
     "name": "stdout",
     "output_type": "stream",
     "text": [
      "{'alternate': 'A',\n",
      " 'chromosome': '15',\n",
      " 'end': 72070929,\n",
      " 'id': '15:72070929:G:A',\n",
      " 'length': 1,\n",
      " 'names': [],\n",
      " 'reference': 'G',\n",
      " 'start': 72070929,\n",
      " 'strand': '+',\n",
      " 'studies': [],\n",
      " 'type': 'SNV'}\n"
     ]
    }
   ],
   "source": [
    "oc.disease_panels.\n",
    "variants = variant_client.query(study=study, chromosome=15, include='id')\n",
    "\n",
    "pprint(variants.get_result(0))\n",
    "#variants.print_results('id')"
   ]
  },
  {
   "cell_type": "code",
   "execution_count": 51,
   "metadata": {},
   "outputs": [
    {
     "name": "stdout",
     "output_type": "stream",
     "text": [
      "{'alternate': 'T',\n",
      " 'chromosome': '15',\n",
      " 'end': 22853997,\n",
      " 'id': '15:22853997:C:T',\n",
      " 'length': 1,\n",
      " 'names': [],\n",
      " 'reference': 'C',\n",
      " 'start': 22853997,\n",
      " 'strand': '+',\n",
      " 'studies': [],\n",
      " 'type': 'SNV'}\n"
     ]
    }
   ],
   "source": [
    "variants = variant_client.query(study=study, region='15:21242091-23226874', include='id')\n",
    "\n",
    "pprint(variants.get_result(4))\n",
    "#variants.print_results('id')"
   ]
  },
  {
   "cell_type": "code",
   "execution_count": null,
   "metadata": {},
   "outputs": [],
   "source": []
  }
 ],
 "metadata": {
  "kernelspec": {
   "display_name": "Python 3",
   "language": "python",
   "name": "python3"
  },
  "language_info": {
   "codemirror_mode": {
    "name": "ipython",
    "version": 3
   },
   "file_extension": ".py",
   "mimetype": "text/x-python",
   "name": "python",
   "nbconvert_exporter": "python",
   "pygments_lexer": "ipython3",
   "version": "3.6.9"
  }
 },
 "nbformat": 4,
 "nbformat_minor": 4
}
