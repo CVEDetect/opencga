{
 "cells": [
  {
   "cell_type": "markdown",
   "id": "external-market",
   "metadata": {},
   "source": [
    "# *pyopencga* Catalog: Clinical Data and other Metadata. \n",
    "\n",
    "------\n",
    "**[NOTE]** The server methods used by *pyopencga* client are defined in the following swagger URL:\n",
    "- http://bioinfodev.hpc.cam.ac.uk/opencga-test/webservices\n",
    "\n",
    "**[NOTE]** Current implemented methods are registered at the following spreadsheet:\n",
    "- https://docs.google.com/spreadsheets/d/1QpU9yl3UTneqwRqFX_WAqCiCfZBk5eU-4E3K-WVvuoc/edit?usp=sharing\n",
    "\n",
    "This notebook is intended to provide guidance for querying an OpenCGA server through *pyopencga* to explore studies which the user has access to, Clinical data provided in the study (Samples, Individuals Genotypes etc.) and other types of metadata, like permissions.\n",
    "\n",
    "A good first step when start working with OpenCGA is to retrieve information about our user, which projects and studies are we allowed to see. \n",
    "Then, Before starting to explore the variants, a good practice is get a taste of the clinical data we are encountering in the study: How many samples and individuals does the study have? Is there any defined cohorts? Can we get some statistics about the genotypes of the samples in the Sudy?\n",
    "\n",
    "The user-cases addresed here constute a high-level introduction aimed to provide a basis for the user to make their own explorations. This example can be adapted to each individual user-case.\n",
    "\n",
    "For guidance on how to loggin and get started with *opencga* you can refer to : ---ADD NOTEBOOK-001---\n",
    " "
   ]
  },
  {
   "cell_type": "markdown",
   "id": "south-aurora",
   "metadata": {},
   "source": [
    "## 1. Setup the Client and Login into *pyopencga* \n",
    "\n",
    "**Configuration and Credentials** \n",
    "\n",
    "Let's assume we already have *pyopencga* installed in our python setup (all the steps described on [001-pyopencga_first_steps.ipynb](https://github.com/opencb/opencga/tree/develop/opencga-client/src/main/python/notebooks/user-training)).\n",
    "\n",
    "You need to provide **at least** a host server URL in the standard configuration format for OpenCGA as a python dictionary or in a json file.\n",
    "\n",
    "Regarding credentials, you can set both user and password as two variables in the script.<br>If you prefer not to show the password, it would be asked interactively without echo."
   ]
  },
  {
   "cell_type": "code",
   "execution_count": 1,
   "id": "liquid-february",
   "metadata": {},
   "outputs": [
    {
     "name": "stdout",
     "output_type": "stream",
     "text": [
      "Config information:\n",
      " {'rest': {'host': 'http://bioinfo.hpc.cam.ac.uk/opencga-prod'}}\n"
     ]
    }
   ],
   "source": [
    "from pyopencga.opencga_config import ClientConfiguration # import configuration module\n",
    "from pyopencga.opencga_client import OpencgaClient # import client module\n",
    "from pprint import pprint\n",
    "import json\n",
    "\n",
    "# Server host\n",
    "host = 'http://bioinfo.hpc.cam.ac.uk/opencga-prod'\n",
    "\n",
    "# User credentials\n",
    "user = \"demouser\"\n",
    "passwd = \"demouser\" ## you can skip this, see below.\n",
    "\n",
    "# The user demo access projects from user opencga\n",
    "prj_owner = \"demo\"\n",
    "\n",
    "# Creating ClientConfiguration dict\n",
    "host = 'http://bioinfo.hpc.cam.ac.uk/opencga-prod'\n",
    "\n",
    "config_dict = {\"rest\": {\n",
    "                       \"host\": host \n",
    "                    }\n",
    "               }\n",
    "print(\"Config information:\\n\",config_dict)\n",
    "\n",
    "# Pass the config_dict dictionary to the ClientConfiguration method\n",
    "config = ClientConfiguration(config_dict)\n",
    "\n",
    "# Create the client\n",
    "oc = OpencgaClient(config)\n",
    "\n",
    "# Pass the credentials to the client\n",
    "\n",
    "# (here we put only the user in order to be asked for the password interactively)\n",
    "# oc.login(user)\n",
    "\n",
    "# or you can pass the user and passwd\n",
    "oc.login(user, passwd)\n",
    "\n"
   ]
  },
  {
   "cell_type": "markdown",
   "id": "whole-australia",
   "metadata": {},
   "source": [
    "## 2. Working with our User: see permissions for Projects and studies\n",
    "\n",
    "### 2.1 General user information"
   ]
  },
  {
   "cell_type": "markdown",
   "id": "miniature-disaster",
   "metadata": {
    "tags": []
   },
   "source": [
    "First, we can get the list of available methods for the user client object:"
   ]
  },
  {
   "cell_type": "code",
   "execution_count": 12,
   "id": "advisory-canada",
   "metadata": {},
   "outputs": [],
   "source": [
    "# Listing available methods for the user client object ?????\n",
    "user_client = oc.users\n",
    "\n"
   ]
  },
  {
   "cell_type": "markdown",
   "id": "original-stadium",
   "metadata": {},
   "source": [
    "Depending of the permissions granted, an user can be the owner of a study or just have access to some studies owned by other users.<br>We can retrieve information about our usser and its permissions by:"
   ]
  },
  {
   "cell_type": "code",
   "execution_count": 13,
   "id": "classified-murray",
   "metadata": {},
   "outputs": [
    {
     "name": "stdout",
     "output_type": "stream",
     "text": [
      "user info:\n",
      "name: OpenCGA Demo User\towned_projects: 0\n"
     ]
    }
   ],
   "source": [
    "## getting user information\n",
    "## [NOTE] User needs the quey_id string directly --> (user)\n",
    "user_info = user_client.info(user).get_result(0)\n",
    "\n",
    "print(\"user info:\")\n",
    "print(\"name: {}\\towned_projects: {}\".format(user_info[\"name\"], len(user_info[\"projects\"])))\n",
    "\n",
    "### It would be great to have creation date and other info ?????\n"
   ]
  },
  {
   "cell_type": "markdown",
   "id": "frank-immigration",
   "metadata": {},
   "source": [
    "We can appreciate that our user (demouser) has **not** projects from its own, but has been granted access to some projects from `demo` user. Let's see how to find it out."
   ]
  },
  {
   "cell_type": "markdown",
   "id": "beautiful-adobe",
   "metadata": {},
   "source": [
    "### 2.2 Exploring the projects for our user\n",
    "\n",
    "We can to list our user's projects using **project client** `search()` function."
   ]
  },
  {
   "cell_type": "code",
   "execution_count": 16,
   "id": "stuck-honduras",
   "metadata": {},
   "outputs": [
    {
     "name": "stdout",
     "output_type": "stream",
     "text": [
      "#id\tname\torganism.scientificName\torganism.assembly\n",
      "family\tFamily Studies GRCh37\tHomo sapiens\tGRCh37\n",
      "population\tPopulation Studies GRCh38\tHomo sapiens\tGRCh38\n"
     ]
    }
   ],
   "source": [
    "## Getting user projects\n",
    "## [NOTE] Client specific methods have the query_id as a key:value (i.e (user=user_id)) \n",
    "project_client = oc.projects\n",
    "projects_info = project_client.search()\n",
    "\n",
    "projects_info.print_results(fields='id,name,organism.scientificName,organism.assembly', metadata=False)"
   ]
  },
  {
   "cell_type": "markdown",
   "id": "complete-still",
   "metadata": {},
   "source": [
    "Our user (demo) has access to 2 different projects:\n",
    "- Project: **family**\n",
    "- Project: **population**"
   ]
  },
  {
   "cell_type": "markdown",
   "id": "upper-mortality",
   "metadata": {},
   "source": [
    "### 2.2 Exploring the Studies for our user\n",
    "\n",
    "All the user permissions are established at a study level in OpenCGA. One project may contain different studies.<br>\n",
    "It is also very important to understand that in OpenCGA, the projects and studies have a full qualified name (**fqn**) with the format [owner]@[project]:[study]"
   ]
  },
  {
   "cell_type": "code",
   "execution_count": null,
   "id": "comparable-spencer",
   "metadata": {},
   "outputs": [],
   "source": []
  },
  {
   "cell_type": "code",
   "execution_count": null,
   "id": "healthy-bubble",
   "metadata": {},
   "outputs": [],
   "source": []
  }
 ],
 "metadata": {
  "kernelspec": {
   "display_name": "Python 3",
   "language": "python",
   "name": "python3"
  },
  "language_info": {
   "codemirror_mode": {
    "name": "ipython",
    "version": 3
   },
   "file_extension": ".py",
   "mimetype": "text/x-python",
   "name": "python",
   "nbconvert_exporter": "python",
   "pygments_lexer": "ipython3",
   "version": "3.6.13"
  }
 },
 "nbformat": 4,
 "nbformat_minor": 5
}
