{
 "cells": [
  {
   "cell_type": "markdown",
   "id": "acting-panic",
   "metadata": {},
   "source": [
    "# pyOpenCGA first steps: Loggin, Working with RestResponse, Launching Jobs\n",
    "\n",
    "------\n",
    "**[NOTE]** The server methods used by pyopencga client are defined in the following swagger URL:\n",
    "- http://bioinfodev.hpc.cam.ac.uk/opencga-test/webservices\n",
    "\n",
    "This notebook is intended to provide guidance for getting pyopencga (the Python client of OpenCGA) started.\n",
    "\n",
    "For that, information about loggin into opencga with user credentials, working with the RestResponse wrapper object to easily explore data returned by the client responses and launching jobs for different purposes.\n",
    "\n",
    "The methods addressed here constitute a high-level introduction of common steps that a user might come through when using OpenCGA with our Python Client, like retrieving information for different studies, clinical data, variant filtering or analysis and exporting of files. \n",
    "\n",
    "A guide through some common user-cases are provided in two different notebooks that can be found here:\n",
    "---ADD NOTEBOOK-02 and NOTEBOOK03 LINKS---\n",
    " \n",
    "\n",
    "**[NOTE]** Current implemented methods are registered at the following spreadsheet:\n",
    "- https://docs.google.com/spreadsheets/d/1QpU9yl3UTneqwRqFX_WAqCiCfZBk5eU-4E3K-WVvuoc/edit?usp=sharing"
   ]
  },
  {
   "cell_type": "markdown",
   "id": "static-skirt",
   "metadata": {},
   "source": [
    "## 1. Loading pyOpenCGA\n",
    "\n",
    "You have two main options\n",
    "\n",
    "### a) From source code: \n",
    "If you need to import from the source code remember that Python3 does not accept relative importing, so you need to append the module path to sys.path\n",
    "\n",
    "Preparing environment for importing from source"
   ]
  },
  {
   "cell_type": "code",
   "execution_count": 1,
   "id": "surrounded-anthony",
   "metadata": {},
   "outputs": [
    {
     "name": "stdout",
     "output_type": "stream",
     "text": [
      "current_dir: ....r-training\n",
      "base_modules_dir: ..../notebooks\n"
     ]
    }
   ],
   "source": [
    "# Initialize PYTHONPATH for pyopencga\n",
    "import sys\n",
    "import os\n",
    "from pprint import pprint\n",
    "\n",
    "cwd = os.getcwd()\n",
    "print(\"current_dir: ....\"+cwd[-10:])\n",
    "\n",
    "base_modules_dir = os.path.dirname(cwd)\n",
    "print(\"base_modules_dir: ....\"+base_modules_dir[-10:])\n",
    "\n",
    "sys.path.append(base_modules_dir)"
   ]
  },
  {
   "cell_type": "markdown",
   "id": "fixed-castle",
   "metadata": {},
   "source": [
    "### b) Installed pyopencga (recommended): \n",
    "\n",
    "You can import pyopencga directly if you have installed pyopencga with PyPI (The Python Package Index).\n",
    "For further documentation, reffer to https://pypi.org/project/pyopencga/.\n",
    "\n",
    "Installation with "
   ]
  }
 ],
 "metadata": {
  "kernelspec": {
   "display_name": "Python 3",
   "language": "python",
   "name": "python3"
  },
  "language_info": {
   "codemirror_mode": {
    "name": "ipython",
    "version": 3
   },
   "file_extension": ".py",
   "mimetype": "text/x-python",
   "name": "python",
   "nbconvert_exporter": "python",
   "pygments_lexer": "ipython3",
   "version": "3.6.13"
  }
 },
 "nbformat": 4,
 "nbformat_minor": 5
}
