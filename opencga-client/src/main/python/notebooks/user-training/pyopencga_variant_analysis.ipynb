{
 "cells": [
  {
   "cell_type": "markdown",
   "id": "closing-coalition",
   "metadata": {},
   "source": [
    "# *pyopencga* Basic Variant Analysis\n",
    "\n",
    "------\n"
   ]
  },
  {
   "cell_type": "markdown",
   "id": "simplified-encoding",
   "metadata": {},
   "source": [
    "# Overview\n",
    "Note: Check Job info in the \"first steps\""
   ]
  },
  {
   "cell_type": "markdown",
   "id": "quarterly-newfoundland",
   "metadata": {},
   "source": [
    "# 1. VCF Export\n",
    "Note: provide a full documented example"
   ]
  },
  {
   "cell_type": "markdown",
   "id": "square-planet",
   "metadata": {},
   "source": [
    "# 2. GWAS Analysis"
   ]
  },
  {
   "cell_type": "code",
   "execution_count": null,
   "id": "adjusted-assumption",
   "metadata": {},
   "outputs": [],
   "source": []
  }
 ],
 "metadata": {
  "kernelspec": {
   "display_name": "Python 3",
   "language": "python",
   "name": "python3"
  },
  "language_info": {
   "codemirror_mode": {
    "name": "ipython",
    "version": 3
   },
   "file_extension": ".py",
   "mimetype": "text/x-python",
   "name": "python",
   "nbconvert_exporter": "python",
   "pygments_lexer": "ipython3",
   "version": "3.8.5"
  }
 },
 "nbformat": 4,
 "nbformat_minor": 5
}
