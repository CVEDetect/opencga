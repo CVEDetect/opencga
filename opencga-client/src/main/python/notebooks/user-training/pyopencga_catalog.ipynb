{
 "cells": [
  {
   "cell_type": "markdown",
   "id": "modern-charge",
   "metadata": {},
   "source": [
    "# *pyopencga* Catalog: Clinical Data and other Metadata. \n",
    "\n",
    "------\n",
    "\n",
    "## Overview\n",
    "\n",
    "This notebook is intended to provide guidance for querying an OpenCGA server through *pyopencga* to explore studies which the user has access to, Clinical data provided in the study (Samples, Individuals Genotypes etc.) and other types of metadata, like permissions.\n",
    "\n",
    "A good first step when start working with OpenCGA is to retrieve information about our user, which projects and studies are we allowed to see.<br>\n",
    "It is also recommended to get a taste of the clinical data we are encountering in the study: How many samples and individuals does the study have? Is there any defined cohorts? Can we get some statistics about the genotypes of the samples in the Sudy?\n",
    "\n",
    "For guidance on how to loggin and get started with *opencga* you can refer to : [001-pyopencga_first_steps.ipynb](https://github.com/opencb/opencga/tree/develop/opencga-client/src/main/python/notebooks/user-training)\n",
    " \n",
    " **[NOTE]** The server methods used by *pyopencga* client are defined in the following swagger URL:\n",
    "- https://ws.opencb.org/opencga-prod/webservices/   "
   ]
  },
  {
   "cell_type": "markdown",
   "id": "proved-cassette",
   "metadata": {},
   "source": [
    "## 1. Setup the Client and Login into *pyopencga* \n",
    "\n",
    "**Configuration and Credentials** \n",
    "\n",
    "Let's assume we already have *pyopencga* installed in our python setup (all the steps described on [001-pyopencga_first_steps.ipynb](https://github.com/opencb/opencga/tree/develop/opencga-client/src/main/python/notebooks/user-training)).\n",
    "\n",
    "You need to provide **at least** a host server URL in the standard configuration format for OpenCGA as a python dictionary or in a json file.\n"
   ]
  },
  {
   "cell_type": "code",
   "execution_count": 15,
   "id": "hollywood-lewis",
   "metadata": {},
   "outputs": [
    {
     "name": "stdout",
     "output_type": "stream",
     "text": [
      "Config information:\n",
      " {'rest': {'host': 'https://ws.opencb.org/opencga-prod'}}\n"
     ]
    }
   ],
   "source": [
    "from pyopencga.opencga_config import ClientConfiguration # import configuration module\n",
    "from pyopencga.opencga_client import OpencgaClient # import client module\n",
    "from pprint import pprint\n",
    "import json\n",
    "\n",
    "####################################\n",
    "## Configuration parameters  #######\n",
    "####################################\n",
    "# OpenCGA host\n",
    "host = 'https://ws.opencb.org/opencga-prod'\n",
    "\n",
    "# User credentials\n",
    "user = 'demouser'\n",
    "passwd = 'demouser' ## you can skip this, see below.\n",
    "study = 'demo@family:platinum'\n",
    "####################################\n",
    "\n",
    "# Creating ClientConfiguration dict\n",
    "config_dict = {'rest': {\n",
    "                       'host': host \n",
    "                    }\n",
    "               }\n",
    "print('Config information:\\n',config_dict)\n",
    "\n",
    "# Pass the config_dict dictionary to the ClientConfiguration method\n",
    "config = ClientConfiguration(config_dict)\n",
    "\n",
    "# Create the client\n",
    "oc = OpencgaClient(config)\n",
    "\n",
    "# Pass the credentials to the client\n",
    "# (here we put only the user in order to be asked for the password interactively)\n",
    "# oc.login(user)\n",
    "\n",
    "# or you can pass the user and passwd\n",
    "oc.login(user, passwd)\n",
    "\n"
   ]
  },
  {
   "cell_type": "markdown",
   "id": "devoted-rental",
   "metadata": {},
   "source": [
    "Once we have defined a variable with the client configuration and credentials, we can access to all the methods defined for the client. These methods implement calls to query different data models in *OpenCGA*. \n",
    "\n",
    "Over the user case addressed in this notebook we will be performing queries to the **users, projects, studies, samples, individuals and cohorts**<br> *OpenCGA* data models."
   ]
  },
  {
   "cell_type": "code",
   "execution_count": 6,
   "id": "collective-reverse",
   "metadata": {},
   "outputs": [],
   "source": [
    "## Define variables to query different data models through the web services\n",
    "\n",
    "user_client = oc.users\n",
    "project_client = oc.projects\n",
    "study_client = oc.studies\n",
    "sample_client = oc.samples\n",
    "individual_client = oc.individuals\n",
    "file_client = oc.files\n",
    "cohort_client = oc.cohorts\n"
   ]
  },
  {
   "cell_type": "markdown",
   "id": "european-gabriel",
   "metadata": {},
   "source": [
    "# 2. Use Cases \n",
    "\n",
    "In this seciton we are going to show how to work with some of the most common scenarios.<br>\n",
    "The user-cases addresed here constute a high-level introduction aimed to provide a basis for the user to make their own explorations. This example can be adapted to each individual user-case.\n",
    "\n"
   ]
  },
  {
   "cell_type": "markdown",
   "id": "civic-doctrine",
   "metadata": {},
   "source": [
    "## 2.1 Exploring User Account: Permissios, Projects and Studies\n",
    "\n",
    "In this use case we cover retrieving information for our user.\n",
    "\n",
    "**In OpenCGA, all the user permissions are established at a study level**. One project contains **at least** one study, although it may contain several.\n",
    "\n",
    "#### Full Qualified Name (fqn) of Studies\n",
    "It is also very important to understand that in OpenCGA, the projects and studies have a full qualified name (**fqn**) with the format:<br>\n",
    "`[[owner]@[project]]:[study]`\n",
    "\n",
    "We cannot be sure if there might be **other studies** with the same name contained in **other projects**.<br> (E.g: the study *platinium* might be defined in two different projects: *GRch37_project and GRch38_project*)\n",
    "\n",
    "Because of that that, it is recomended to use the **fqn** when referencing studies.\n"
   ]
  },
  {
   "cell_type": "markdown",
   "id": "geological-recipient",
   "metadata": {},
   "source": [
    "### 2.1.1 Exploring Projects and Studies"
   ]
  },
  {
   "cell_type": "markdown",
   "id": "architectural-memory",
   "metadata": {},
   "source": [
    "Depending on the permissions granted, a user can be the owner of a study or just have access to some studies owned by other users.<br>We can retrieve information about our user and its permissions by:"
   ]
  },
  {
   "cell_type": "code",
   "execution_count": 8,
   "id": "norwegian-basis",
   "metadata": {},
   "outputs": [
    {
     "name": "stdout",
     "output_type": "stream",
     "text": [
      "Using printe_results function:\n",
      "#Time: 13\n",
      "#Num matches: -1\n",
      "#Num results: 1\n",
      "#Num inserted: 0\n",
      "#Num updated: 0\n",
      "#Num deleted: 0\n",
      "#id\taccount.type\tprojects\n",
      "demouser\tGUEST\t.\n",
      "\n",
      "Using REST response API:\n",
      "User info:\n",
      "id:demouser\taccount_type: GUEST\t projects_owned: 0\n"
     ]
    }
   ],
   "source": [
    "## Getting user information\n",
    "## [NOTE] User needs the quey_id string directly --> (user)\n",
    "print(\"Using printe_results function:\")\n",
    "user_info_resp = user_client.info(user)\n",
    "user_info_resp.print_results(\"id,account.type,projects\") #, metadata=False\n",
    "\n",
    "print(\"\\nUsing REST response API:\")\n",
    "user_info = user_client.info(user).get_result(0)\n",
    "print('User info:')\n",
    "print('id:{}\\taccount_type: {}\\t projects_owned: {}'.format(user_info['id'], user_info['account']['type'], len(user_info['projects'])))\n"
   ]
  },
  {
   "cell_type": "markdown",
   "id": "alert-coating",
   "metadata": {},
   "source": [
    "We can appreciate that our user (demouser) has **not** projects from its own.<br> However, the user might has been granted access to some projects from other users. Let's see how to find this out:"
   ]
  },
  {
   "cell_type": "markdown",
   "id": "mental-nashville",
   "metadata": {},
   "source": [
    "#### Projects:\n",
    "Now, we can list our user's projects using **project client** `search()` function."
   ]
  },
  {
   "cell_type": "code",
   "execution_count": 10,
   "id": "based-booking",
   "metadata": {},
   "outputs": [
    {
     "name": "stdout",
     "output_type": "stream",
     "text": [
      "#id\tname\torganism.scientificName\torganism.assembly\tfqn\n",
      "family\tFamily Studies GRCh37\tHomo sapiens\tGRCh37\tdemo@family\n",
      "population\tPopulation Studies GRCh38\tHomo sapiens\tGRCh38\tdemo@population\n"
     ]
    }
   ],
   "source": [
    "## Getting user projects\n",
    "## [NOTE] Client specific methods have the query_id as a key:value (i.e (user=user_id)) \n",
    "\n",
    "projects_info = project_client.search()\n",
    "projects_info.print_results(fields='id,name,organism.scientificName,organism.assembly,fqn', metadata=False)\n"
   ]
  },
  {
   "cell_type": "markdown",
   "id": "owned-hospital",
   "metadata": {},
   "source": [
    "As we can see, our user (*demouser*) has access been granted access to 2 different projects:\n",
    "- Project: **family**\n",
    "- Project: **population**\n",
    "\n",
    "The **fqn** `demo@population` and `demo@family` show that those projects are owned by the user *demo*, who have shared the permission to see them with us.\n"
   ]
  },
  {
   "cell_type": "markdown",
   "id": "subsequent-conversation",
   "metadata": {},
   "source": [
    "#### Studies\n",
    "Now, let's see which studies do we have access within the **family** project."
   ]
  },
  {
   "cell_type": "code",
   "execution_count": 94,
   "id": "integrated-magic",
   "metadata": {},
   "outputs": [
    {
     "name": "stdout",
     "output_type": "stream",
     "text": [
      "project:family\t study_id:platinum\t study_fqn:demo@family:platinum \n",
      "project:family\t study_id:corpasome\t study_fqn:demo@family:corpasome \n"
     ]
    }
   ],
   "source": [
    "project_id = 'family'  # The project we want to retrieve info\n",
    "studies = study_client.search(project_id)\n",
    "\n",
    "## Print the studies using the result_iterator() method\n",
    "for study in studies.result_iterator():\n",
    "    print(\"project:{}\\t study_id:{}\\t study_fqn:{} \".format(project_id, study['id'], study['fqn']))"
   ]
  },
  {
   "cell_type": "markdown",
   "id": "recent-andrews",
   "metadata": {},
   "source": [
    "Our user (*demouser*) has access to 2 different studies within the **family** project:\n",
    "- study: **platinum**\n",
    "- study: **corpasome**"
   ]
  },
  {
   "cell_type": "markdown",
   "id": "lonely-parts",
   "metadata": {},
   "source": [
    "### 2.1.2 Checking Groups and Permissions"
   ]
  },
  {
   "cell_type": "markdown",
   "id": "damaged-leeds",
   "metadata": {},
   "source": [
    "Now we can assume that we want to check to which groups our user belongs to and which permisions pur user has been granted for the study (remember that all the permissions are established at the study level).<br>\n",
    "The first step might be check which groups exist within the study **platinum**:"
   ]
  },
  {
   "cell_type": "code",
   "execution_count": 21,
   "id": "native-growth",
   "metadata": {},
   "outputs": [
    {
     "name": "stdout",
     "output_type": "stream",
     "text": [
      "group_id: @members\n",
      "group_id: @admins\n",
      "group_id: @opencb-team\n",
      "\n",
      "There are 3 groups in the study demo@family:platinum: ['@members', '@admins', '@opencb-team']\n"
     ]
    }
   ],
   "source": [
    "# Check study definition: the fqn of the study\n",
    "# study = 'demo@family:platinum'\n",
    "\n",
    "# Query to the study web service\n",
    "groups = study_client.groups(study)\n",
    "study_groups = []  # Define an empty list for the groups\n",
    "\n",
    "## This will give us the whole list of groups existing in the study\n",
    "for group in groups.result_iterator():\n",
    "    study_groups.append(group['id'])\n",
    "    print(\"group_id: {}\".format(group['id']))\n",
    "    \n",
    "print('\\nThere are 3 groups in the study {}: {}'.format(study, study_groups))\n"
   ]
  },
  {
   "cell_type": "markdown",
   "id": "increased-sherman",
   "metadata": {},
   "source": [
    "The study **platinum** has 3 different groups of users defined: **members, admins and opencb-team**\n"
   ]
  },
  {
   "cell_type": "markdown",
   "id": "ancient-bronze",
   "metadata": {},
   "source": [
    "Now we want to check in which groups is our user *demouser* included:"
   ]
  },
  {
   "cell_type": "code",
   "execution_count": 22,
   "id": "linear-package",
   "metadata": {},
   "outputs": [
    {
     "name": "stdout",
     "output_type": "stream",
     "text": [
      "group_id: @members\n",
      "\n",
      "Our user demouser belongs to group/s: ['@members']\n"
     ]
    }
   ],
   "source": [
    "user_groups = [] # Define an empty list \n",
    "\n",
    "## This will give us only the groups our user belongs to\n",
    "for group in groups.result_iterator():\n",
    "    if 'demouser' in group['userIds']:\n",
    "        user_groups.append(group['id'])\n",
    "        print(\"group_id: {}\".format(group['id']))\n",
    "        \n",
    "print('\\nOur user {} belongs to group/s: {}'.format(user, user_groups))\n"
   ]
  },
  {
   "cell_type": "markdown",
   "id": "juvenile-maximum",
   "metadata": {},
   "source": [
    "Although there are 3 groups defined for the study, our user (*demouser*) only belongs to group **members**, which is one of the default groups in *OpenCGA*."
   ]
  },
  {
   "cell_type": "markdown",
   "id": "designing-trademark",
   "metadata": {},
   "source": [
    "Now must be wondering which specific permissions our user has. We can check this using the `client.acl()` method in the next call (**acl** = access control list):"
   ]
  },
  {
   "cell_type": "code",
   "execution_count": 25,
   "id": "single-lobby",
   "metadata": {
    "pycharm": {
     "name": "#%%\n"
    }
   },
   "outputs": [
    {
     "ename": "NameError",
     "evalue": "name 'acl' is not defined",
     "output_type": "error",
     "traceback": [
      "\u001b[0;31m---------------------------------------------------------------------------\u001b[0m",
      "\u001b[0;31mNameError\u001b[0m                                 Traceback (most recent call last)",
      "\u001b[0;32m<ipython-input-25-a125730bc851>\u001b[0m in \u001b[0;36m<module>\u001b[0;34m\u001b[0m\n\u001b[1;32m      2\u001b[0m \u001b[0;34m\u001b[0m\u001b[0m\n\u001b[1;32m      3\u001b[0m \u001b[0macls\u001b[0m \u001b[0;34m=\u001b[0m \u001b[0mstudy_client\u001b[0m\u001b[0;34m.\u001b[0m\u001b[0macl\u001b[0m\u001b[0;34m(\u001b[0m\u001b[0mstudy\u001b[0m\u001b[0;34m,\u001b[0m \u001b[0mmember\u001b[0m\u001b[0;34m=\u001b[0m\u001b[0;34m'demouser'\u001b[0m\u001b[0;34m)\u001b[0m\u001b[0;34m\u001b[0m\u001b[0;34m\u001b[0m\u001b[0m\n\u001b[0;32m----> 4\u001b[0;31m \u001b[0mprint\u001b[0m\u001b[0;34m(\u001b[0m\u001b[0;34m'The user demouser has the following permissions:\\n'\u001b[0m\u001b[0;34m,\u001b[0m \u001b[0macl\u001b[0m\u001b[0;34m[\u001b[0m\u001b[0;34m'demouser'\u001b[0m\u001b[0;34m]\u001b[0m\u001b[0;34m)\u001b[0m\u001b[0;34m\u001b[0m\u001b[0;34m\u001b[0m\u001b[0m\n\u001b[0m\u001b[1;32m      5\u001b[0m \u001b[0;34m\u001b[0m\u001b[0m\n",
      "\u001b[0;31mNameError\u001b[0m: name 'acl' is not defined"
     ]
    }
   ],
   "source": [
    "# Permissions granted directly to user:\n",
    "\n",
    "acls = study_client.acl(study, member='demouser')\n",
    "print('The user demouser has the following permissions:\\n', acl['demouser'])\n",
    "    "
   ]
  },
  {
   "cell_type": "markdown",
   "id": "pointed-integration",
   "metadata": {},
   "source": [
    "We've stated before that the group **members** is one of the default groups in *OpenCGA* (along with the group **admins**). We can also check the permissions granted to this group directly:"
   ]
  },
  {
   "cell_type": "code",
   "execution_count": 26,
   "id": "listed-chassis",
   "metadata": {},
   "outputs": [
    {
     "name": "stdout",
     "output_type": "stream",
     "text": [
      "group_id: @members\t group_acls: []\n"
     ]
    }
   ],
   "source": [
    "# perm granted to the groups our user belongs to\n",
    "for group in user_groups:\n",
    "    acls = study_client.acl(study, member=group)\n",
    "    if acls.get_num_results() == 0:\n",
    "        print('group_id: {}\\t group_acls: []'.format(group))\n",
    "    else:\n",
    "        for acl in acls.result_iterator():\n",
    "            print('group_id: {}\\t group_acls: {}'.format(group, acl[group]))\n",
    "            "
   ]
  },
  {
   "cell_type": "markdown",
   "id": "worse-diploma",
   "metadata": {},
   "source": [
    "Intuitively, the group **members** is the basic group and has any default permissions. On the other hand, users in the group **admins** have permission to see and edit the study information.\n",
    "\n",
    "For more information about user and group permissions, check the official *OpenCGA* documentation: **[Catalog and Security - Users and Permissions](http://docs.opencb.org/display/opencga/Sharing+and+Permissions)**"
   ]
  },
  {
   "cell_type": "markdown",
   "id": "outer-macintosh",
   "metadata": {},
   "source": [
    "## 2.2 Exploring Catalog Clinical Metadata"
   ]
  },
  {
   "cell_type": "markdown",
   "id": "third-honduras",
   "metadata": {},
   "source": [
    "A genomic data analysis platform need to keep track of different resources such as:\n",
    "\n",
    "- Clinical Data: information about individuals, samples from those individuals etc.\n",
    "- Files Metadata: information about files contained in the platform, such as VCFs and BAMs.\n",
    "\n",
    "*OpenCGA Catalog* is the component that assumes this role by storing this kind of information\n",
    "\n"
   ]
  },
  {
   "cell_type": "markdown",
   "id": "stuffed-azerbaijan",
   "metadata": {},
   "source": [
    "### 2.2.1 Exploring Samples and Individuals\n",
    "Ideas: contar smaples, contar indovdiasl, mirar cuantos individuals tienen samples "
   ]
  },
  {
   "cell_type": "markdown",
   "id": "civil-crawford",
   "metadata": {},
   "source": [
    "\n",
    "Once we know the studies our user 'demo' has access to, we can explore the samples that a project contains.<br>\n",
    "To fetch samples you need to use the sample client built in pyopencga.Remember that it is recomended to use the **[fqn](#Full-Qualified-Name-(fqn)-of-Studies )** when referencing studies.<br>\n",
    "Let's imagine we want to know how many samples are in the study **platinum**, and list information about the first two samples: "
   ]
  },
  {
   "cell_type": "code",
   "execution_count": 34,
   "id": "religious-increase",
   "metadata": {},
   "outputs": [
    {
     "name": "stdout",
     "output_type": "stream",
     "text": [
      "#Time: 67\n",
      "#Num matches: 17\n",
      "#Num results: 5\n",
      "#Num inserted: 0\n",
      "#Num updated: 0\n",
      "#Num deleted: 0\n",
      "#id\tannotationSets\tuuid\tqualityControl\trelease\tversion\tcreationDate\tmodificationDate\tdescription\tsomatic\tphenotypes\tindividualId\tfileIds\tstatus\tinternal\tattributes\n",
      "NA12877\t.\teba106b2-0172-0004-0001-0090f938ae01\t{'fileIds': [], 'comments': [], 'alignmentMetrics': [], 'variantMetrics': {'variantStats': [], 'signatures': [], 'vcfFileIds': []}}\t1\t1\t20200625131818\t20201117012312\t\tFalse\t.\tNA12877\tdata:platinum-genomes-vcf-NA12877_S1.genome.vcf.gz\t{'name': '', 'description': '', 'date': ''}\t{'status': {'name': 'READY', 'date': '20200625131818', 'description': ''}}\t{'OPENCGA_INDIVIDUAL': {'id': 'NA12877', 'name': 'NA12877', 'uuid': 'eba0f035-0172-0006-0001-f2aeb4168df1', 'father': {'release': 0, 'version': 0, 'parentalConsanguinity': False}, 'mother': {'release': 0, 'version': 0, 'parentalConsanguinity': False}, 'location': {}, 'sex': 'UNKNOWN', 'karyotypicSex': 'UNKNOWN', 'ethnicity': '', 'population': {}, 'release': 1, 'version': 1, 'creationDate': '20200625131812', 'modificationDate': '20201002113644', 'lifeStatus': 'UNKNOWN', 'phenotypes': [], 'disorders': [], 'parentalConsanguinity': False, 'status': {'name': '', 'description': '', 'date': ''}, 'internal': {'status': {'name': 'READY', 'date': '20200625131812', 'description': ''}}, 'attributes': {}}}\n",
      "NA12878\t.\teba10c89-0172-0004-0001-8c90462fc396\t{'fileIds': [], 'comments': [], 'alignmentMetrics': [], 'variantMetrics': {'variantStats': [], 'signatures': [], 'vcfFileIds': []}}\t1\t1\t20200625131819\t20201117015700\t\tFalse\t.\tNA12878\tdata:platinum-genomes-vcf-NA12878_S1.genome.vcf.gz\t{'name': '', 'description': '', 'date': ''}\t{'status': {'name': 'READY', 'date': '20200625131819', 'description': ''}}\t{'OPENCGA_INDIVIDUAL': {'id': 'NA12878', 'name': 'NA12878', 'uuid': 'eba0f2b4-0172-0006-0001-6af0ded43009', 'father': {'release': 0, 'version': 0, 'parentalConsanguinity': False}, 'mother': {'release': 0, 'version': 0, 'parentalConsanguinity': False}, 'location': {}, 'sex': 'UNKNOWN', 'karyotypicSex': 'UNKNOWN', 'ethnicity': '', 'population': {}, 'release': 1, 'version': 1, 'creationDate': '20200625131813', 'modificationDate': '20201002113649', 'lifeStatus': 'UNKNOWN', 'phenotypes': [], 'disorders': [], 'parentalConsanguinity': False, 'status': {'name': '', 'description': '', 'date': ''}, 'internal': {'status': {'name': 'READY', 'date': '20200625131813', 'description': ''}}, 'attributes': {}}}\n",
      "NA12879\t.\teba11008-0172-0004-0001-fcea4ff5e986\t{'fileIds': [], 'comments': [], 'alignmentMetrics': [], 'variantMetrics': {'variantStats': [], 'signatures': [], 'vcfFileIds': []}}\t1\t1\t20200625131820\t20201117015709\t\tFalse\t.\tNA12879\tdata:platinum-genomes-vcf-NA12879_S1.genome.vcf.gz\t{'name': '', 'description': '', 'date': ''}\t{'status': {'name': 'READY', 'date': '20200625131820', 'description': ''}}\t{'OPENCGA_INDIVIDUAL': {'id': 'NA12879', 'name': 'NA12879', 'uuid': 'eba0f467-0172-0006-0001-d1e44969fcc3', 'father': {'release': 0, 'version': 0, 'parentalConsanguinity': False}, 'mother': {'release': 0, 'version': 0, 'parentalConsanguinity': False}, 'location': {}, 'sex': 'UNKNOWN', 'karyotypicSex': 'UNKNOWN', 'ethnicity': '', 'population': {}, 'release': 1, 'version': 1, 'creationDate': '20200625131813', 'modificationDate': '20201002113653', 'lifeStatus': 'UNKNOWN', 'phenotypes': [], 'disorders': [], 'parentalConsanguinity': False, 'status': {'name': '', 'description': '', 'date': ''}, 'internal': {'status': {'name': 'READY', 'date': '20200625131813', 'description': ''}}, 'attributes': {}}}\n",
      "NA12880\t.\teba1134a-0172-0004-0001-5993743bc415\t{'fileIds': [], 'comments': [], 'alignmentMetrics': [], 'variantMetrics': {'variantStats': [], 'signatures': [], 'vcfFileIds': []}}\t1\t1\t20200625131821\t20201117022819\t\tFalse\t.\tNA12880\tdata:platinum-genomes-vcf-NA12880_S1.genome.vcf.gz\t{'name': '', 'description': '', 'date': ''}\t{'status': {'name': 'READY', 'date': '20200625131821', 'description': ''}}\t{'OPENCGA_INDIVIDUAL': {'id': 'NA12880', 'name': 'NA12880', 'uuid': 'eba0f56e-0172-0006-0001-95f703aba3e6', 'father': {'release': 0, 'version': 0, 'parentalConsanguinity': False}, 'mother': {'release': 0, 'version': 0, 'parentalConsanguinity': False}, 'location': {}, 'sex': 'UNKNOWN', 'karyotypicSex': 'UNKNOWN', 'ethnicity': '', 'population': {}, 'release': 1, 'version': 1, 'creationDate': '20200625131813', 'modificationDate': '20201002113657', 'lifeStatus': 'UNKNOWN', 'phenotypes': [], 'disorders': [], 'parentalConsanguinity': False, 'status': {'name': '', 'description': '', 'date': ''}, 'internal': {'status': {'name': 'READY', 'date': '20200625131813', 'description': ''}}, 'attributes': {}}}\n",
      "NA12881\t.\teba1160e-0172-0004-0001-dd08a9d03e4e\t{'fileIds': [], 'comments': [], 'alignmentMetrics': [], 'variantMetrics': {'variantStats': [], 'signatures': [], 'vcfFileIds': []}}\t1\t1\t20200625131822\t20201117022827\t\tFalse\t.\tNA12881\tdata:platinum-genomes-vcf-NA12881_S1.genome.vcf.gz\t{'name': '', 'description': '', 'date': ''}\t{'status': {'name': 'READY', 'date': '20200625131822', 'description': ''}}\t{'OPENCGA_INDIVIDUAL': {'id': 'NA12881', 'name': 'NA12881', 'uuid': 'eba0f66c-0172-0006-0001-d023fa4e791a', 'father': {'release': 0, 'version': 0, 'parentalConsanguinity': False}, 'mother': {'release': 0, 'version': 0, 'parentalConsanguinity': False}, 'location': {}, 'sex': 'UNKNOWN', 'karyotypicSex': 'UNKNOWN', 'ethnicity': '', 'population': {}, 'release': 1, 'version': 1, 'creationDate': '20200625131814', 'modificationDate': '20201002113702', 'lifeStatus': 'UNKNOWN', 'phenotypes': [], 'disorders': [], 'parentalConsanguinity': False, 'status': {'name': '', 'description': '', 'date': ''}, 'internal': {'status': {'name': 'READY', 'date': '20200625131814', 'description': ''}}, 'attributes': {}}}\n",
      "\n",
      "JSON output:\n",
      "{'annotationSets': [],\n",
      " 'attributes': {'OPENCGA_INDIVIDUAL': {'attributes': {},\n",
      "                                       'creationDate': '20200625131812',\n",
      "                                       'disorders': [],\n",
      "                                       'ethnicity': '',\n",
      "                                       'father': {'parentalConsanguinity': False,\n",
      "                                                  'release': 0,\n",
      "                                                  'version': 0},\n",
      "                                       'id': 'NA12877',\n",
      "                                       'internal': {'status': {'date': '20200625131812',\n",
      "                                                               'description': '',\n",
      "                                                               'name': 'READY'}},\n",
      "                                       'karyotypicSex': 'UNKNOWN',\n",
      "                                       'lifeStatus': 'UNKNOWN',\n",
      "                                       'location': {},\n",
      "                                       'modificationDate': '20201002113644',\n",
      "                                       'mother': {'parentalConsanguinity': False,\n",
      "                                                  'release': 0,\n",
      "                                                  'version': 0},\n",
      "                                       'name': 'NA12877',\n",
      "                                       'parentalConsanguinity': False,\n",
      "                                       'phenotypes': [],\n",
      "                                       'population': {},\n",
      "                                       'release': 1,\n",
      "                                       'sex': 'UNKNOWN',\n",
      "                                       'status': {'date': '',\n",
      "                                                  'description': '',\n",
      "                                                  'name': ''},\n",
      "                                       'uuid': 'eba0f035-0172-0006-0001-f2aeb4168df1',\n",
      "                                       'version': 1}},\n",
      " 'creationDate': '20200625131818',\n",
      " 'description': '',\n",
      " 'fileIds': ['data:platinum-genomes-vcf-NA12877_S1.genome.vcf.gz'],\n",
      " 'id': 'NA12877',\n",
      " 'individualId': 'NA12877',\n",
      " 'internal': {'status': {'date': '20200625131818',\n",
      "                         'description': '',\n",
      "                         'name': 'READY'}},\n",
      " 'modificationDate': '20201117012312',\n",
      " 'phenotypes': [],\n",
      " 'qualityControl': {'alignmentMetrics': [],\n",
      "                    'comments': [],\n",
      "                    'fileIds': [],\n",
      "                    'variantMetrics': {'signatures': [],\n",
      "                                       'variantStats': [],\n",
      "                                       'vcfFileIds': []}},\n",
      " 'release': 1,\n",
      " 'somatic': False,\n",
      " 'status': {'date': '', 'description': '', 'name': ''},\n",
      " 'uuid': 'eba106b2-0172-0004-0001-0090f938ae01',\n",
      " 'version': 1}\n"
     ]
    }
   ],
   "source": [
    "# Define the fqn of the study we want to query\n",
    "# study = 'demo@family:platinum' \n",
    "\n",
    "## Call to the sample web endpoint\n",
    "samples = sample_client.search(study=study, includeIndividual=True, count=True, limit = 5) ## other possible params, count=False, id='NA12880,NA12881'\n",
    "samples.print_results()\n",
    "\n",
    "print(\"\\nJSON output:\")\n",
    "pprint(samples.get_result(0))\n"
   ]
  },
  {
   "cell_type": "markdown",
   "id": "static-connection",
   "metadata": {},
   "source": [
    "We can see that project *platinium* has **17 samples** (given by #Num matches). The count is returned because we have set the parameter `count=True`.\n",
    "\n",
    "However, only information about **2 samples** is returned, because we have set the parameter `limit=2`. We can get all the samples ids by:"
   ]
  },
  {
   "cell_type": "code",
   "execution_count": 36,
   "id": "focal-spouse",
   "metadata": {},
   "outputs": [
    {
     "name": "stdout",
     "output_type": "stream",
     "text": [
      "There are 17 samples with ids:\n",
      " ['NA12877', 'NA12878', 'NA12879', 'NA12880', 'NA12881', 'NA12882', 'NA12883', 'NA12884', 'NA12885', 'NA12886', 'NA12887', 'NA12888', 'NA12889', 'NA12890', 'NA12891', 'NA12892', 'NA12893']\n",
      "\n"
     ]
    }
   ],
   "source": [
    "sample_ids = [] # Define an empty list\n",
    "\n",
    "# Define a new sample query without limit\n",
    "samples = sample_client.search(study=study, count=True) \n",
    "\n",
    "for sample in samples.result_iterator():\n",
    "    sample_ids.append(sample['id'])\n",
    "\n",
    "print('There are {} samples with ids:\\n {}\\n'.format(len(sample_ids), sample_ids))\n"
   ]
  },
  {
   "cell_type": "markdown",
   "id": "lightweight-supply",
   "metadata": {},
   "source": [
    "Now, we can repite the same process for check the number of individuals in the **family** study. The difference is that now we will be making a call to the **individual** web service:"
   ]
  },
  {
   "cell_type": "code",
   "execution_count": 45,
   "id": "nearby-silly",
   "metadata": {},
   "outputs": [
    {
     "name": "stdout",
     "output_type": "stream",
     "text": [
      "Min table columns:\n",
      "#Time: 55\n",
      "#Num matches: 17\n",
      "#Num results: 2\n",
      "#Num inserted: 0\n",
      "#Num updated: 0\n",
      "#Num deleted: 0\n",
      "#id\tsex\n",
      "NA12877\tUNKNOWN\n",
      "NA12878\tUNKNOWN\n",
      "\n",
      " Full JSON output;\n",
      "{'annotationSets': [],\n",
      " 'attributes': {},\n",
      " 'creationDate': '20200625131812',\n",
      " 'disorders': [],\n",
      " 'ethnicity': '',\n",
      " 'father': {'parentalConsanguinity': False, 'release': 0, 'version': 0},\n",
      " 'id': 'NA12877',\n",
      " 'internal': {'status': {'date': '20200625131812',\n",
      "                         'description': '',\n",
      "                         'name': 'READY'}},\n",
      " 'karyotypicSex': 'UNKNOWN',\n",
      " 'lifeStatus': 'UNKNOWN',\n",
      " 'location': {},\n",
      " 'modificationDate': '20201002113644',\n",
      " 'mother': {'parentalConsanguinity': False, 'release': 0, 'version': 0},\n",
      " 'name': 'NA12877',\n",
      " 'parentalConsanguinity': False,\n",
      " 'phenotypes': [],\n",
      " 'population': {},\n",
      " 'release': 1,\n",
      " 'samples': [{'attributes': {},\n",
      "              'creationDate': '20200625131818',\n",
      "              'description': '',\n",
      "              'fileIds': ['data:platinum-genomes-vcf-NA12877_S1.genome.vcf.gz'],\n",
      "              'id': 'NA12877',\n",
      "              'individualId': 'NA12877',\n",
      "              'internal': {'status': {'date': '20200625131818',\n",
      "                                      'description': '',\n",
      "                                      'name': 'READY'}},\n",
      "              'modificationDate': '20201117012312',\n",
      "              'phenotypes': [],\n",
      "              'qualityControl': {'alignmentMetrics': [],\n",
      "                                 'comments': [],\n",
      "                                 'fileIds': [],\n",
      "                                 'variantMetrics': {'signatures': [],\n",
      "                                                    'variantStats': [],\n",
      "                                                    'vcfFileIds': []}},\n",
      "              'release': 1,\n",
      "              'somatic': False,\n",
      "              'status': {'date': '', 'description': '', 'name': ''},\n",
      "              'uuid': 'eba106b2-0172-0004-0001-0090f938ae01',\n",
      "              'version': 1}],\n",
      " 'sex': 'UNKNOWN',\n",
      " 'status': {'date': '', 'description': '', 'name': ''},\n",
      " 'uuid': 'eba0f035-0172-0006-0001-f2aeb4168df1',\n",
      " 'version': 1}\n"
     ]
    }
   ],
   "source": [
    "## Call to the individual web service\n",
    "\n",
    "print('Min table columns:')\n",
    "individuals = individual_client.search(study=study, count=True, limit=2) ## other possible params, count=False, id='NA12880,NA12881'\n",
    "individuals.print_results('id,sex')\n",
    "\n",
    "print(\"\\n Full JSON output;\")\n",
    "pprint(individuals.get_result(0))"
   ]
  },
  {
   "cell_type": "markdown",
   "id": "thorough-fantasy",
   "metadata": {},
   "source": [
    "In the study **family** there are the same number of individuals and samples (17 matches). It is likely that there is a sample per individual.\n",
    "\n",
    "We might be interested in knowing when the individuals were added to *OpenCGA*:"
   ]
  },
  {
   "cell_type": "code",
   "execution_count": 60,
   "id": "cheap-prophet",
   "metadata": {},
   "outputs": [
    {
     "name": "stdout",
     "output_type": "stream",
     "text": [
      "There are 17 individuals with ids:\n",
      " ['NA12877', 'NA12878', 'NA12879', 'NA12880', 'NA12881', 'NA12882', 'NA12883', 'NA12884', 'NA12885', 'NA12886', 'NA12887', 'NA12888', 'NA12889', 'NA12890', 'NA12891', 'NA12892', 'NA12893']\n",
      "\n",
      "The individual NA12877 was created on 20200625131812\n",
      "The individual NA12878 was created on 20200625131813\n",
      "The individual NA12879 was created on 20200625131813\n",
      "The individual NA12880 was created on 20200625131813\n",
      "The individual NA12881 was created on 20200625131814\n",
      "The individual NA12882 was created on 20200625131814\n",
      "The individual NA12883 was created on 20200625131814\n",
      "The individual NA12884 was created on 20200625131814\n",
      "The individual NA12885 was created on 20200625131815\n",
      "The individual NA12886 was created on 20200625131815\n",
      "The individual NA12887 was created on 20200625131815\n",
      "The individual NA12888 was created on 20200625131815\n",
      "The individual NA12889 was created on 20200625131815\n",
      "The individual NA12890 was created on 20200625131816\n",
      "The individual NA12891 was created on 20200625131816\n",
      "The individual NA12892 was created on 20200625131816\n",
      "The individual NA12893 was created on 20200625131816\n"
     ]
    }
   ],
   "source": [
    "## New call to the individual web service\n",
    "individuals = individual_client.search(study=study) ## other possible params, count=False, id='NA12880,NA12881'\n",
    "\n",
    "## Print the date each individual was created \n",
    "date_individuals = {} # Define an empty dictionary\n",
    "\n",
    "for individual in individuals.result_iterator():\n",
    "    date_individuals[individual['id']] = individual['creationDate']\n",
    "\n",
    "individual_ids = list(date_individuals.keys())\n",
    "print('There are {} individuals with ids:\\n {}\\n'.format(len(individual_ids), individual_ids))\n",
    "\n",
    "for ind in date_individuals:\n",
    "    print('The individual {} was created on {}'.format(ind, date_individuals[ind]))\n",
    "    "
   ]
  },
  {
   "cell_type": "markdown",
   "id": "formed-prior",
   "metadata": {},
   "source": [
    "### 2.2.2 Custom Annotations"
   ]
  },
  {
   "cell_type": "markdown",
   "id": "adequate-premises",
   "metadata": {},
   "source": [
    "### 2.2.2 Exploring Files"
   ]
  },
  {
   "cell_type": "markdown",
   "id": "intermediate-watson",
   "metadata": {},
   "source": [
    "We can start by exploring the number of files in the study, and retrieveing information about one file as an example of which kind of data is stored in the **file** data model of *OpenCGA*."
   ]
  },
  {
   "cell_type": "code",
   "execution_count": 50,
   "id": "handmade-brooks",
   "metadata": {},
   "outputs": [
    {
     "name": "stdout",
     "output_type": "stream",
     "text": [
      "#Time: 82\n",
      "#Num matches: 3834\n",
      "#Num results: 3\n",
      "#Num inserted: 0\n",
      "#Num updated: 0\n",
      "#Num deleted: 0\n",
      "#id\n",
      "data:platinum-genomes-vcf-NA12877_S1.genome.vcf.gz\n",
      "data:platinum-genomes-vcf-NA12878_S1.genome.vcf.gz\n",
      "data:platinum-genomes-vcf-NA12879_S1.genome.vcf.gz\n",
      "{'annotationSets': [],\n",
      " 'bioformat': 'VARIANT',\n",
      " 'creationDate': '20200625131819',\n",
      " 'experiment': {},\n",
      " 'external': True,\n",
      " 'format': 'VCF',\n",
      " 'id': 'data:platinum-genomes-vcf-NA12878_S1.genome.vcf.gz',\n",
      " 'internal': {'index': {'attributes': {},\n",
      "                        'creationDate': '',\n",
      "                        'jobId': -1,\n",
      "                        'release': 1,\n",
      "                        'status': {'date': '20200625135127',\n",
      "                                   'description': 'Job finished. File index '\n",
      "                                                  'ready',\n",
      "                                   'name': 'READY'},\n",
      "                        'userId': ''},\n",
      "              'sampleMap': {},\n",
      "              'status': {'date': '20200625131819',\n",
      "                         'description': '',\n",
      "                         'name': 'READY'}},\n",
      " 'jobId': '',\n",
      " 'modificationDate': '20200625135127',\n",
      " 'name': 'platinum-genomes-vcf-NA12878_S1.genome.vcf.gz',\n",
      " 'path': 'data/platinum-genomes-vcf-NA12878_S1.genome.vcf.gz',\n",
      " 'relatedFiles': [],\n",
      " 'release': 1,\n",
      " 'sampleIds': ['NA12878'],\n",
      " 'size': 883195909,\n",
      " 'software': {},\n",
      " 'stats': {'variantFileStats': {'biotypeCount': {},\n",
      "                                'chromosomeCount': {'1': 4098314,\n",
      "                                                    '10': 2420434,\n",
      "                                                    '11': 2334555,\n",
      "                                                    '12': 2300709,\n",
      "                                                    '13': 1661346,\n",
      "                                                    '14': 1581664,\n",
      "                                                    '15': 1549610,\n",
      "                                                    '16': 1670624,\n",
      "                                                    '17': 1564492,\n",
      "                                                    '18': 1311874,\n",
      "                                                    '19': 1290977,\n",
      "                                                    '2': 4177240,\n",
      "                                                    '20': 1106113,\n",
      "                                                    '21': 725803,\n",
      "                                                    '22': 798852,\n",
      "                                                    '3': 3260109,\n",
      "                                                    '4': 3277571,\n",
      "                                                    '5': 3012814,\n",
      "                                                    '6': 2892863,\n",
      "                                                    '7': 2918797,\n",
      "                                                    '8': 2481839,\n",
      "                                                    '9': 2369550,\n",
      "                                                    'MT': 196,\n",
      "                                                    'X': 2415004,\n",
      "                                                    'Y': 209562},\n",
      "                                'chromosomeDensity': {'1': 0.016442543,\n",
      "                                                      '10': 0.017858401,\n",
      "                                                      '11': 0.017292166,\n",
      "                                                      '12': 0.017188467,\n",
      "                                                      '13': 0.014425178,\n",
      "                                                      '14': 0.0147337755,\n",
      "                                                      '15': 0.015113518,\n",
      "                                                      '16': 0.018489609,\n",
      "                                                      '17': 0.01926828,\n",
      "                                                      '18': 0.016802257,\n",
      "                                                      '19': 0.021833235,\n",
      "                                                      '2': 0.017176196,\n",
      "                                                      '20': 0.01755024,\n",
      "                                                      '21': 0.015080087,\n",
      "                                                      '22': 0.0155707775,\n",
      "                                                      '3': 0.016463332,\n",
      "                                                      '4': 0.01714621,\n",
      "                                                      '5': 0.016653178,\n",
      "                                                      '6': 0.01690595,\n",
      "                                                      '7': 0.018341219,\n",
      "                                                      '8': 0.01695662,\n",
      "                                                      '9': 0.01677992,\n",
      "                                                      'MT': 0.011827892,\n",
      "                                                      'X': 0.015553522,\n",
      "                                                      'Y': 0.0035295503},\n",
      "                                'consequenceTypeCount': {},\n",
      "                                'filesCount': 1,\n",
      "                                'filterCount': {'.': 405,\n",
      "                                                'IndelConflict': 14618,\n",
      "                                                'LowGQX': 3838672,\n",
      "                                                'LowMQ': 2841913,\n",
      "                                                'LowQD': 738644,\n",
      "                                                'MaxDepth': 396883,\n",
      "                                                'PASS': 44825259,\n",
      "                                                'SiteConflict': 34044,\n",
      "                                                'TruthSensitivityTranche99.00to99.90': 759316,\n",
      "                                                'TruthSensitivityTranche99.90to100.00': 1014080},\n",
      "                                'qualityAvg': 825.26953,\n",
      "                                'qualityStdDev': 827.1807,\n",
      "                                'sampleCount': 1,\n",
      "                                'tiTvRatio': 1.6145304,\n",
      "                                'typeCount': {'DELETION': 2,\n",
      "                                              'INDEL': 699379,\n",
      "                                              'NO_VARIATION': 45575269,\n",
      "                                              'SNV': 5156262},\n",
      "                                'variantCount': 51430912}},\n",
      " 'status': {'date': '', 'description': '', 'name': ''},\n",
      " 'tags': [],\n",
      " 'type': 'FILE',\n",
      " 'uri': 'file:///mnt/resources/datasets/platinum/data/platinum-genomes-vcf-NA12878_S1.genome.vcf.gz',\n",
      " 'uuid': 'eba10b27-0172-0003-0001-cf81e3a6b4fa'}\n"
     ]
    }
   ],
   "source": [
    "## Call to the file web service\n",
    "\n",
    "files = file_client.search(study=study, count=True, type='FILE', limit=3, exclude='attributes') ## other possible params, count=False, id='NA12880,NA12881'\n",
    "files.print_results('id')\n",
    "\n",
    "pprint(files.get_result(1))  # Print information for the first file\n"
   ]
  },
  {
   "cell_type": "markdown",
   "id": "reflected-immigration",
   "metadata": {},
   "source": [
    "As we can see, there are 3.766 files in the study.<br> There is plenty of useful information contained in the file data model like the file format, the stats, size of the file. If we want to look for more concrete information about one specific file:"
   ]
  },
  {
   "cell_type": "code",
   "execution_count": 53,
   "id": "oriental-works",
   "metadata": {},
   "outputs": [
    {
     "name": "stdout",
     "output_type": "stream",
     "text": [
      "The study demo@family:platinum contains a VCF file with id: data:platinum-genomes-vcf-NA12878_S1.genome.vcf.gz,\n",
      "created on: 20200625131819\n"
     ]
    }
   ],
   "source": [
    "my_vcf = files.get_result(1)\n",
    "\n",
    "print('The study {} contains a {} file with id: {},\\ncreated on: {}'.format(study, my_vcf['format'], \n",
    "                                                                            my_vcf['id'], my_vcf['creationDate']))\n",
    "\n"
   ]
  },
  {
   "cell_type": "markdown",
   "id": "optional-association",
   "metadata": {},
   "source": [
    "Now, we might be interested in know the number of files for a specific sample:"
   ]
  },
  {
   "cell_type": "code",
   "execution_count": 54,
   "id": "absent-controversy",
   "metadata": {},
   "outputs": [
    {
     "name": "stdout",
     "output_type": "stream",
     "text": [
      "The sample NA12877 has file/s: ['data:platinum-genomes-vcf-NA12877_S1.genome.vcf.gz']\n"
     ]
    }
   ],
   "source": [
    "# Select a sample id\n",
    "sample_of_interest = sample_ids[0]\n",
    "\n",
    "## List the files for a concrete sample\n",
    "sample = sample_client.info(study=study, samples= sample_of_interest) ## other possible params, count=False, id='NA12880,NA12881'\n",
    "sample_files = sample.get_result(0)['fileIds']\n",
    "\n",
    "print('The sample {} has file/s: {}'.format(sample_of_interest, sample_files))\n"
   ]
  },
  {
   "cell_type": "markdown",
   "id": "christian-trance",
   "metadata": {},
   "source": [
    "### 2.2.3 Exploring Cohorts"
   ]
  },
  {
   "cell_type": "markdown",
   "id": "hollywood-regression",
   "metadata": {},
   "source": [
    "One powerful feature of *OpenCGA* is the possibility of define **cohorts** that include individuals with common traits of interest, like a phenotype, nationality etc.<br>\n",
    "The **cohorts** are defined at the study level. *OpenCGA* creates a default cohort *ALL*, which includes all the individuals of the study.\n",
    "\n",
    " We can explore which cohorts are defined in the study **family** by:"
   ]
  },
  {
   "cell_type": "code",
   "execution_count": 57,
   "id": "lucky-devon",
   "metadata": {},
   "outputs": [
    {
     "name": "stdout",
     "output_type": "stream",
     "text": [
      "#Time: 42\n",
      "#Num matches: 1\n",
      "#Num results: 1\n",
      "#Num inserted: 0\n",
      "#Num updated: 0\n",
      "#Num deleted: 0\n",
      "#id\n",
      "ALL\n",
      "{'annotationSets': [],\n",
      " 'attributes': {},\n",
      " 'creationDate': '20200625131829',\n",
      " 'description': 'Default cohort with almost all indexed samples',\n",
      " 'id': 'ALL',\n",
      " 'internal': {'status': {'date': '20200702090536',\n",
      "                         'description': '',\n",
      "                         'name': 'READY'}},\n",
      " 'modificationDate': '20200702090536',\n",
      " 'numSamples': 17,\n",
      " 'release': 1,\n",
      " 'status': {'date': '', 'description': '', 'name': ''},\n",
      " 'type': 'COLLECTION',\n",
      " 'uuid': 'eba13322-0172-0005-0001-1de37fca9efe'}\n"
     ]
    }
   ],
   "source": [
    "## Call to the file web service\n",
    "\n",
    "cohorts = cohort_client.search(study=study, count=True, exclude='samples') ## other possible params, count=False, id='NA12880,NA12881'\n",
    "cohorts.print_results('id')\n",
    "\n",
    "pprint(cohorts.get_result(0))  # Print information for the first file\n"
   ]
  },
  {
   "cell_type": "markdown",
   "id": "split-quick",
   "metadata": {},
   "source": [
    "For the study **family** there is only 1 cohort: the default cohort *ALL*.\n",
    "\n",
    "As we can see in the description file of the cohort data model, *ALL* is the default cohort with almost all indexed samples."
   ]
  },
  {
   "cell_type": "markdown",
   "id": "expensive-pasta",
   "metadata": {},
   "source": [
    "## 2.3 Aggregations\n",
    "You can easily filter samples, individuals, ... using your custom annotation ..."
   ]
  },
  {
   "cell_type": "code",
   "execution_count": null,
   "id": "smooth-terry",
   "metadata": {},
   "outputs": [],
   "source": []
  }
 ],
 "metadata": {
  "kernelspec": {
   "display_name": "Python 3",
   "language": "python",
   "name": "python3"
  },
  "language_info": {
   "codemirror_mode": {
    "name": "ipython",
    "version": 3
   },
   "file_extension": ".py",
   "mimetype": "text/x-python",
   "name": "python",
   "nbconvert_exporter": "python",
   "pygments_lexer": "ipython3",
   "version": "3.8.5"
  }
 },
 "nbformat": 4,
 "nbformat_minor": 5
}
