{
 "cells": [
  {
   "cell_type": "markdown",
   "id": "magnetic-bracelet",
   "metadata": {},
   "source": [
    "# *pyopencga* Catalog: Clinical Data and other Metadata. \n",
    "\n",
    "------\n",
    "**[NOTE]** The server methods used by *pyopencga* client are defined in the following swagger URL:\n",
    "- http://bioinfodev.hpc.cam.ac.uk/opencga-test/webservices\n",
    "\n",
    "**[NOTE]** Current implemented methods are registered at the following spreadsheet:\n",
    "- https://docs.google.com/spreadsheets/d/1QpU9yl3UTneqwRqFX_WAqCiCfZBk5eU-4E3K-WVvuoc/edit?usp=sharing\n",
    "\n",
    "This notebook is intended to provide guidance for querying an OpenCGA server through *pyopencga* to explore studies which the user has access to, Clinical data provided in the study (Samples, Individuals Genotypes etc.) and other types of metadata, like permissions.\n",
    "\n",
    "A good first step when start working with OpenCGA is to retrieve information about our user, which projects and studies are we allowed to see.<br>\n",
    "It is also recommended to get a taste of the clinical data we are encountering in the study: How many samples and individuals does the study have? Is there any defined cohorts? Can we get some statistics about the genotypes of the samples in the Sudy?\n",
    "\n",
    "For guidance on how to loggin and get started with *opencga* you can refer to : [001-pyopencga_first_steps.ipynb](https://github.com/opencb/opencga/tree/develop/opencga-client/src/main/python/notebooks/user-training)\n",
    " "
   ]
  },
  {
   "cell_type": "markdown",
   "id": "powerful-music",
   "metadata": {},
   "source": [
    "## 1. Setup the Client and Login into *pyopencga* \n",
    "\n",
    "**Configuration and Credentials** \n",
    "\n",
    "Let's assume we already have *pyopencga* installed in our python setup (all the steps described on [001-pyopencga_first_steps.ipynb](https://github.com/opencb/opencga/tree/develop/opencga-client/src/main/python/notebooks/user-training)).\n",
    "\n",
    "You need to provide **at least** a host server URL in the standard configuration format for OpenCGA as a python dictionary or in a json file.\n"
   ]
  },
  {
   "cell_type": "code",
   "execution_count": 2,
   "id": "spanish-beads",
   "metadata": {},
   "outputs": [
    {
     "name": "stdout",
     "output_type": "stream",
     "text": [
      "Config information:\n",
      " {'rest': {'host': 'https://ws.opencb.org/opencga-prod'}}\n"
     ]
    }
   ],
   "source": [
    "from pyopencga.opencga_config import ClientConfiguration # import configuration module\n",
    "from pyopencga.opencga_client import OpencgaClient # import client module\n",
    "from pprint import pprint\n",
    "import json\n",
    "\n",
    "## Configuration parameters\n",
    "# OpenCGA host\n",
    "host = 'https://ws.opencb.org/opencga-prod'\n",
    "\n",
    "# User credentials\n",
    "user = 'demouser'\n",
    "passwd = 'demouser' ## you can skip this, see below.\n",
    "study = 'demo@family:platinum'\n",
    "####################################\n",
    "\n",
    "# Creating ClientConfiguration dict\n",
    "config_dict = {'rest': {\n",
    "                       'host': host \n",
    "                    }\n",
    "               }\n",
    "print('Config information:\\n',config_dict)\n",
    "\n",
    "# Pass the config_dict dictionary to the ClientConfiguration method\n",
    "config = ClientConfiguration(config_dict)\n",
    "\n",
    "# Create the client\n",
    "oc = OpencgaClient(config)\n",
    "\n",
    "# Pass the credentials to the client\n",
    "# (here we put only the user in order to be asked for the password interactively)\n",
    "# oc.login(user)\n",
    "\n",
    "# or you can pass the user and passwd\n",
    "oc.login(user, passwd)\n",
    "\n"
   ]
  },
  {
   "cell_type": "markdown",
   "id": "crazy-contribution",
   "metadata": {},
   "source": [
    "# 2. Use Cases \n",
    "\n",
    "In this seciton we are going to show how to work with some of the most common scenarios.<br>\n",
    "The user-cases addresed here constute a high-level introduction aimed to provide a basis for the user to make their own explorations. This example can be adapted to each individual user-case.\n",
    "\n"
   ]
  },
  {
   "cell_type": "markdown",
   "id": "innovative-plaintiff",
   "metadata": {},
   "source": [
    "## 2.1 Working with our User: see permissions for Projects and studies\n",
    "\n",
    "In this use case we cover retrieving information for our user.\n",
    "\n",
    "First, we can get the list of available methods for the user client object:"
   ]
  },
  {
   "cell_type": "code",
   "execution_count": 3,
   "id": "provincial-paraguay",
   "metadata": {},
   "outputs": [],
   "source": [
    "# Listing available methods for the user client object ?????\n",
    "user_client = oc.users\n"
   ]
  },
  {
   "cell_type": "markdown",
   "id": "loving-volume",
   "metadata": {},
   "source": [
    "Depending on the permissions granted, an user can be the owner of a study or just have access to some studies owned by other users.<br>We can retrieve information about our usser and its permissions by:"
   ]
  },
  {
   "cell_type": "code",
   "execution_count": 8,
   "id": "monthly-produce",
   "metadata": {},
   "outputs": [
    {
     "name": "stdout",
     "output_type": "stream",
     "text": [
      "user info:\n",
      "name: OpenCGA Demo User\towned_projects: 0\n"
     ]
    }
   ],
   "source": [
    "## getting user information\n",
    "## [NOTE] User needs the quey_id string directly --> (user)\n",
    "user_info = user_client.info(user).get_result(0)\n",
    "\n",
    "print('user info:')\n",
    "print('name: {}\\towned_projects: {}'.format(user_info['name'], len(user_info['projects'])))\n",
    "\n",
    "### It would be great to have creation date and other info ?????\n"
   ]
  },
  {
   "cell_type": "markdown",
   "id": "incorrect-handling",
   "metadata": {},
   "source": [
    "We can appreciate that our user (demouser) has **not** projects from its own, but has been granted access to some projects from `demo` user. Let's see how to find it out."
   ]
  },
  {
   "cell_type": "markdown",
   "id": "second-disclaimer",
   "metadata": {},
   "source": [
    "### Exploring the projects for our user\n",
    "\n",
    "We can to list our user's projects using **project client** `search()` function."
   ]
  },
  {
   "cell_type": "code",
   "execution_count": 5,
   "id": "gorgeous-motorcycle",
   "metadata": {},
   "outputs": [
    {
     "name": "stdout",
     "output_type": "stream",
     "text": [
      "#id\tname\torganism.scientificName\torganism.assembly\n",
      "family\tFamily Studies GRCh37\tHomo sapiens\tGRCh37\n",
      "population\tPopulation Studies GRCh38\tHomo sapiens\tGRCh38\n"
     ]
    }
   ],
   "source": [
    "## Getting user projects\n",
    "## [NOTE] Client specific methods have the query_id as a key:value (i.e (user=user_id)) \n",
    "project_client = oc.projects\n",
    "projects_info = project_client.search()\n",
    "\n",
    "projects_info.print_results(fields='id,name,organism.scientificName,organism.assembly', metadata=False)"
   ]
  },
  {
   "cell_type": "markdown",
   "id": "animated-nursing",
   "metadata": {},
   "source": [
    "Our user (demo) has access to 2 different projects:\n",
    "- Project: **family**\n",
    "- Project: **population**"
   ]
  },
  {
   "cell_type": "markdown",
   "id": "floral-disabled",
   "metadata": {},
   "source": [
    "### Exploring the Studies for our user\n",
    "\n",
    "All the user permissions are established at a study level in OpenCGA. One project may contain different studies.\n",
    "\n",
    "#### Full Qualified Name (fqn) of Studies \n",
    "\n",
    "It is also very important to understand that in OpenCGA, the projects and studies have a full qualified name (**fqn**) with the format [owner]@[project]:[study]\n",
    "We can access the studies for the specific project *family*:"
   ]
  },
  {
   "cell_type": "code",
   "execution_count": 6,
   "id": "political-tradition",
   "metadata": {},
   "outputs": [
    {
     "name": "stdout",
     "output_type": "stream",
     "text": [
      "project:family\t study:platinum\n",
      "project:family\t study:corpasome\n"
     ]
    }
   ],
   "source": [
    "project_id = 'family'  # The project we want to retrieve info\n",
    "\n",
    "## you can also use the following command:\n",
    "## projects = project_client.search(id=project_id)\n",
    "\n",
    "projects = project_client.info(project_id)\n",
    "project = projects.get_result(0)\n",
    "\n",
    "# Print the studies in the project\n",
    "for study in project['studies']:\n",
    "    print(\"project:{}\\t study:{}\".format(project_id, study['id']))"
   ]
  },
  {
   "cell_type": "markdown",
   "id": "imperial-angola",
   "metadata": {},
   "source": [
    "Our user (demo) has access to 2 different studies within the *family* project:\n",
    "\n",
    "Project: *family*\n",
    "- study: *platinum*\n",
    "- study: *corpasome*"
   ]
  },
  {
   "cell_type": "markdown",
   "id": "assured-hawaiian",
   "metadata": {},
   "source": [
    "## 2.2 Browsing samples or individuals"
   ]
  },
  {
   "cell_type": "markdown",
   "id": "systematic-syntax",
   "metadata": {},
   "source": [
    "### Exploring Samples\n",
    "\n",
    "Once we know the studies our user 'demo' has access to, we can explore the samples that a project contains.<br>\n",
    "To fetch samples you need to use the sample client built in pyopencga.<br>\n",
    "\n",
    "Remember that it is recomended to use the **[fqn](#Full-Qualified-Name-(fqn)-of-Studies )** when referencing studies, since we cannot be sure if there might be other studies with the same name contained in other projects (E.g: the study *platinium* could e into two different projects: *GRch37_project and GRch38_project*)\n",
    "\n",
    "In this case, we can see the samples from the project *platinium*."
   ]
  },
  {
   "cell_type": "code",
   "execution_count": 9,
   "id": "inner-amino",
   "metadata": {},
   "outputs": [
    {
     "name": "stdout",
     "output_type": "stream",
     "text": [
      "#Time: 66\n",
      "#Num matches: 17\n",
      "#Num results: 2\n",
      "#Num inserted: 0\n",
      "#Num updated: 0\n",
      "#Num deleted: 0\n",
      "#id\tannotationSets\tuuid\tqualityControl\trelease\tversion\tcreationDate\tmodificationDate\tdescription\tsomatic\tphenotypes\tindividualId\tfileIds\tstatus\tinternal\tattributes\n",
      "NA12877\t.\teba106b2-0172-0004-0001-0090f938ae01\t{'fileIds': [], 'comments': [], 'alignmentMetrics': [], 'variantMetrics': {'variantStats': [], 'signatures': [], 'vcfFileIds': []}}\t1\t1\t20200625131818\t20201117012312\t\tFalse\t.\tNA12877\tdata:platinum-genomes-vcf-NA12877_S1.genome.vcf.gz\t{'name': '', 'description': '', 'date': ''}\t{'status': {'name': 'READY', 'date': '20200625131818', 'description': ''}}\t{}\n",
      "NA12878\t.\teba10c89-0172-0004-0001-8c90462fc396\t{'fileIds': [], 'comments': [], 'alignmentMetrics': [], 'variantMetrics': {'variantStats': [], 'signatures': [], 'vcfFileIds': []}}\t1\t1\t20200625131819\t20201117015700\t\tFalse\t.\tNA12878\tdata:platinum-genomes-vcf-NA12878_S1.genome.vcf.gz\t{'name': '', 'description': '', 'date': ''}\t{'status': {'name': 'READY', 'date': '20200625131819', 'description': ''}}\t{}\n"
     ]
    }
   ],
   "source": [
    "## Let's print samples from platinum usinf project:study notation\n",
    "study_id = 'family:platinum'   #fqn of the study\n",
    "samples = oc.samples.search(study=study_id, count=True, limit = 2) ## other possible params, count=False, id='NA12880,NA12881'\n",
    "samples.print_results()"
   ]
  },
  {
   "cell_type": "markdown",
   "id": "liberal-contract",
   "metadata": {},
   "source": [
    "We can see that project *platinium* has **17 samples** (given by #Num matches). The count is returned because we have set the parameter `count=True`.\n",
    "\n",
    "However, only information about **2 samples** is returned, because we have set the parameter `limit=2`."
   ]
  },
  {
   "cell_type": "markdown",
   "id": "adapted-builder",
   "metadata": {},
   "source": [
    "### Exploring Individuals"
   ]
  },
  {
   "cell_type": "markdown",
   "id": "nasty-evidence",
   "metadata": {},
   "source": [
    "### How many Samples are in a given Individual?"
   ]
  },
  {
   "cell_type": "markdown",
   "id": "casual-nowhere",
   "metadata": {},
   "source": [
    "## 2.3 Browsing Genotypes and Phenotypes"
   ]
  },
  {
   "cell_type": "code",
   "execution_count": null,
   "id": "protecting-developer",
   "metadata": {},
   "outputs": [],
   "source": []
  }
 ],
 "metadata": {
  "kernelspec": {
   "display_name": "Python 3",
   "language": "python",
   "name": "python3"
  },
  "language_info": {
   "codemirror_mode": {
    "name": "ipython",
    "version": 3
   },
   "file_extension": ".py",
   "mimetype": "text/x-python",
   "name": "python",
   "nbconvert_exporter": "python",
   "pygments_lexer": "ipython3",
   "version": "3.6.13"
  }
 },
 "nbformat": 4,
 "nbformat_minor": 5
}
